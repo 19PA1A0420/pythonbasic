{
  "nbformat": 4,
  "nbformat_minor": 0,
  "metadata": {
    "kernelspec": {
      "display_name": "Python 3",
      "language": "python",
      "name": "python3"
    },
    "language_info": {
      "codemirror_mode": {
        "name": "ipython",
        "version": 3
      },
      "file_extension": ".py",
      "mimetype": "text/x-python",
      "name": "python",
      "nbconvert_exporter": "python",
      "pygments_lexer": "ipython3",
      "version": "3.6.4"
    },
    "varInspector": {
      "cols": {
        "lenName": 16,
        "lenType": 16,
        "lenVar": 40
      },
      "kernels_config": {
        "python": {
          "delete_cmd_postfix": "",
          "delete_cmd_prefix": "del ",
          "library": "var_list.py",
          "varRefreshCmd": "print(var_dic_list())"
        },
        "r": {
          "delete_cmd_postfix": ") ",
          "delete_cmd_prefix": "rm(",
          "library": "var_list.r",
          "varRefreshCmd": "cat(var_dic_list()) "
        }
      },
      "types_to_exclude": [
        "module",
        "function",
        "builtin_function_or_method",
        "instance",
        "_Feature"
      ],
      "window_display": false
    },
    "colab": {
      "name": "CSE7235c_Day_01_Pandas_Master_Copy.ipynb",
      "provenance": [],
      "include_colab_link": true
    }
  },
  "cells": [
    {
      "cell_type": "markdown",
      "metadata": {
        "id": "view-in-github",
        "colab_type": "text"
      },
      "source": [
        "<a href=\"https://colab.research.google.com/github/19PA1A0420/pythonbasic/blob/master/CSE7235c_Day_01_Pandas_Master_Copy.ipynb\" target=\"_parent\"><img src=\"https://colab.research.google.com/assets/colab-badge.svg\" alt=\"Open In Colab\"/></a>"
      ]
    },
    {
      "cell_type": "markdown",
      "metadata": {
        "id": "IIn04F6_WQYi",
        "colab_type": "text"
      },
      "source": [
        "# <center>**Pandas Introduction**</center>\n",
        "---\n",
        "\n",
        "<br>\n"
      ]
    },
    {
      "cell_type": "markdown",
      "metadata": {
        "collapsed": true,
        "id": "m_0-stVfWQYn",
        "colab_type": "text"
      },
      "source": [
        "## **Pandas DataFrame**\n"
      ]
    },
    {
      "cell_type": "code",
      "metadata": {
        "id": "JnLbHZaLWQYq",
        "colab_type": "code",
        "colab": {}
      },
      "source": [
        "# import pandas\n",
        "import pandas as pd"
      ],
      "execution_count": 0,
      "outputs": []
    },
    {
      "cell_type": "markdown",
      "metadata": {
        "id": "sXtOQLv7WQY1",
        "colab_type": "text"
      },
      "source": [
        "## **Reading data**"
      ]
    },
    {
      "cell_type": "code",
      "metadata": {
        "id": "QdBNiuS-WQY2",
        "colab_type": "code",
        "colab": {}
      },
      "source": [
        "# Read data from csv file\n",
        "ipl = pd.read_csv('matches2008-2016.csv')\n",
        "ipl_new = pd.read_csv('matches2017.csv')"
      ],
      "execution_count": 0,
      "outputs": []
    },
    {
      "cell_type": "code",
      "metadata": {
        "id": "JHBqy77LWQY8",
        "colab_type": "code",
        "colab": {
          "base_uri": "https://localhost:8080/",
          "height": 260
        },
        "outputId": "d2c7a53d-3c00-46e0-bf38-00ec875af576"
      },
      "source": [
        "print(ipl)"
      ],
      "execution_count": 149,
      "outputs": [
        {
          "output_type": "stream",
          "text": [
            "    match_id  season        city  ... venue_id          umpire1          umpire2\n",
            "0     2008_1    2008   Bangalore  ...        7        Asad Rauf      RE Koertzen\n",
            "1     2008_2    2008  Chandigarh  ...        9        MR Benson       SL Shastri\n",
            "2     2008_3    2008       Delhi  ...        2        Aleem Dar   GA Pratapkumar\n",
            "3     2008_4    2008      Mumbai  ...        1         SJ Davis        DJ Harper\n",
            "4     2008_5    2008     Kolkata  ...        3        BF Bowden      K Hariharan\n",
            "..       ...     ...         ...  ...      ...              ...              ...\n",
            "572  2016_56    2016      Raipur  ...       27   A Nand Kishore     BNJ Oxenford\n",
            "573  2016_57    2016   Bangalore  ...        7     AK Chaudhary  HDPK Dharmasena\n",
            "574  2016_58    2016       Delhi  ...        2        M Erasmus    C Shamshuddin\n",
            "575  2016_59    2016       Delhi  ...        2        M Erasmus        CK Nandan\n",
            "576  2016_60    2016   Bangalore  ...        7  HDPK Dharmasena     BNJ Oxenford\n",
            "\n",
            "[577 rows x 19 columns]\n"
          ],
          "name": "stdout"
        }
      ]
    },
    {
      "cell_type": "markdown",
      "metadata": {
        "id": "J1cS21FxWQZD",
        "colab_type": "text"
      },
      "source": [
        "## **Checking data dimensions**\n",
        "- use the shape method on data frame to get the dimensions"
      ]
    },
    {
      "cell_type": "code",
      "metadata": {
        "id": "emULvkLKWQZF",
        "colab_type": "code",
        "colab": {
          "base_uri": "https://localhost:8080/",
          "height": 52
        },
        "outputId": "ba4ffccb-3223-4aec-9862-ef12f19f751e"
      },
      "source": [
        "print(ipl.shape)\n",
        "print(ipl_new.shape)"
      ],
      "execution_count": 150,
      "outputs": [
        {
          "output_type": "stream",
          "text": [
            "(577, 19)\n",
            "(59, 19)\n"
          ],
          "name": "stdout"
        }
      ]
    },
    {
      "cell_type": "markdown",
      "metadata": {
        "id": "i5rOuR9cWQZL",
        "colab_type": "text"
      },
      "source": [
        "## **Appending DataFrame**\n",
        "- We need to append new matches data to the old data using append method"
      ]
    },
    {
      "cell_type": "code",
      "metadata": {
        "id": "ohOvtA_HWQZM",
        "colab_type": "code",
        "colab": {
          "base_uri": "https://localhost:8080/",
          "height": 260
        },
        "outputId": "d94f8f34-50d5-4e31-c745-fca205e31494"
      },
      "source": [
        "ipl_final = ipl.copy()             # Explicitly creating a copy of ipl. Just to make sure you don't modify your original data\n",
        "ipl_final = ipl_final.append(ipl_new,ignore_index=True)\n",
        "print(ipl_final)"
      ],
      "execution_count": 151,
      "outputs": [
        {
          "output_type": "stream",
          "text": [
            "    match_id  season        city  ... venue_id       umpire1         umpire2\n",
            "0     2008_1    2008   Bangalore  ...        7     Asad Rauf     RE Koertzen\n",
            "1     2008_2    2008  Chandigarh  ...        9     MR Benson      SL Shastri\n",
            "2     2008_3    2008       Delhi  ...        2     Aleem Dar  GA Pratapkumar\n",
            "3     2008_4    2008      Mumbai  ...        1      SJ Davis       DJ Harper\n",
            "4     2008_5    2008     Kolkata  ...        3     BF Bowden     K Hariharan\n",
            "..       ...     ...         ...  ...      ...           ...             ...\n",
            "631  2017_55    2017       Delhi  ...        2     CK Nandan   C Shamshuddin\n",
            "632  2017_56    2017      Mumbai  ...        1        S Ravi   C Shamshuddin\n",
            "633  2017_57    2017   Bangalore  ...        7  AK Chaudhary     Nitin Menon\n",
            "634  2017_58    2017   Bangalore  ...        7      NJ Llong     Nitin Menon\n",
            "635  2017_59    2017   Hyderabad  ...        4      NJ Llong          S Ravi\n",
            "\n",
            "[636 rows x 19 columns]\n"
          ],
          "name": "stdout"
        }
      ]
    },
    {
      "cell_type": "code",
      "metadata": {
        "id": "p8N_IUmTdruW",
        "colab_type": "code",
        "colab": {}
      },
      "source": [
        "ipl_final2 = ipl.copy()"
      ],
      "execution_count": 0,
      "outputs": []
    },
    {
      "cell_type": "markdown",
      "metadata": {
        "id": "LJ7jKGdLWQZR",
        "colab_type": "text"
      },
      "source": [
        "## **Data Inspection**"
      ]
    },
    {
      "cell_type": "code",
      "metadata": {
        "id": "3kjlklVBWQZT",
        "colab_type": "code",
        "colab": {
          "base_uri": "https://localhost:8080/",
          "height": 34
        },
        "outputId": "e9ae6233-feed-48ac-d2b4-f83c7b523ced"
      },
      "source": [
        "## .shape gives dimentions of Data\n",
        "print(ipl_final.shape)                            # dim() in R - Dimentions of data"
      ],
      "execution_count": 153,
      "outputs": [
        {
          "output_type": "stream",
          "text": [
            "(636, 19)\n"
          ],
          "name": "stdout"
        }
      ]
    },
    {
      "cell_type": "code",
      "metadata": {
        "id": "uSlZXinRb7sA",
        "colab_type": "code",
        "colab": {}
      },
      "source": [
        ""
      ],
      "execution_count": 0,
      "outputs": []
    },
    {
      "cell_type": "code",
      "metadata": {
        "id": "xzBqcYkOWQZZ",
        "colab_type": "code",
        "colab": {
          "base_uri": "https://localhost:8080/",
          "height": 302
        },
        "outputId": "a8c6f7eb-be6c-4e4d-dd54-6ae9059e6a5b"
      },
      "source": [
        "## Getting top 3 rows usig head method\n",
        "ipl_final.head(3)"
      ],
      "execution_count": 154,
      "outputs": [
        {
          "output_type": "execute_result",
          "data": {
            "text/html": [
              "<div>\n",
              "<style scoped>\n",
              "    .dataframe tbody tr th:only-of-type {\n",
              "        vertical-align: middle;\n",
              "    }\n",
              "\n",
              "    .dataframe tbody tr th {\n",
              "        vertical-align: top;\n",
              "    }\n",
              "\n",
              "    .dataframe thead th {\n",
              "        text-align: right;\n",
              "    }\n",
              "</style>\n",
              "<table border=\"1\" class=\"dataframe\">\n",
              "  <thead>\n",
              "    <tr style=\"text-align: right;\">\n",
              "      <th></th>\n",
              "      <th>match_id</th>\n",
              "      <th>season</th>\n",
              "      <th>city</th>\n",
              "      <th>date</th>\n",
              "      <th>team1_id</th>\n",
              "      <th>team2_id</th>\n",
              "      <th>toss_winner</th>\n",
              "      <th>toss_decision</th>\n",
              "      <th>result</th>\n",
              "      <th>dl_applied</th>\n",
              "      <th>winner</th>\n",
              "      <th>win_by_runs</th>\n",
              "      <th>win_by_wickets</th>\n",
              "      <th>player_of_match</th>\n",
              "      <th>player_of_match_id</th>\n",
              "      <th>venue</th>\n",
              "      <th>venue_id</th>\n",
              "      <th>umpire1</th>\n",
              "      <th>umpire2</th>\n",
              "    </tr>\n",
              "  </thead>\n",
              "  <tbody>\n",
              "    <tr>\n",
              "      <th>0</th>\n",
              "      <td>2008_1</td>\n",
              "      <td>2008</td>\n",
              "      <td>Bangalore</td>\n",
              "      <td>18-04-2008</td>\n",
              "      <td>KKR</td>\n",
              "      <td>RCB</td>\n",
              "      <td>RCB</td>\n",
              "      <td>field</td>\n",
              "      <td>normal</td>\n",
              "      <td>0</td>\n",
              "      <td>KKR</td>\n",
              "      <td>140</td>\n",
              "      <td>0</td>\n",
              "      <td>Brendon McCullum</td>\n",
              "      <td>82.0</td>\n",
              "      <td>M.Chinnaswamy Stadium Bengaluru, Karnataka</td>\n",
              "      <td>7</td>\n",
              "      <td>Asad Rauf</td>\n",
              "      <td>RE Koertzen</td>\n",
              "    </tr>\n",
              "    <tr>\n",
              "      <th>1</th>\n",
              "      <td>2008_2</td>\n",
              "      <td>2008</td>\n",
              "      <td>Chandigarh</td>\n",
              "      <td>19-04-2008</td>\n",
              "      <td>CSK</td>\n",
              "      <td>KXI</td>\n",
              "      <td>CSK</td>\n",
              "      <td>bat</td>\n",
              "      <td>normal</td>\n",
              "      <td>0</td>\n",
              "      <td>CSK</td>\n",
              "      <td>33</td>\n",
              "      <td>0</td>\n",
              "      <td>Michael Hussey</td>\n",
              "      <td>18.0</td>\n",
              "      <td>I.S. Bindra Punjab Cricket Association Stadium...</td>\n",
              "      <td>9</td>\n",
              "      <td>MR Benson</td>\n",
              "      <td>SL Shastri</td>\n",
              "    </tr>\n",
              "    <tr>\n",
              "      <th>2</th>\n",
              "      <td>2008_3</td>\n",
              "      <td>2008</td>\n",
              "      <td>Delhi</td>\n",
              "      <td>19-04-2008</td>\n",
              "      <td>RR</td>\n",
              "      <td>DD</td>\n",
              "      <td>RR</td>\n",
              "      <td>bat</td>\n",
              "      <td>normal</td>\n",
              "      <td>0</td>\n",
              "      <td>DD</td>\n",
              "      <td>0</td>\n",
              "      <td>9</td>\n",
              "      <td>Farveez Maharoof</td>\n",
              "      <td>60.0</td>\n",
              "      <td>Feroz Shah Kotla Stadium, Delhi</td>\n",
              "      <td>2</td>\n",
              "      <td>Aleem Dar</td>\n",
              "      <td>GA Pratapkumar</td>\n",
              "    </tr>\n",
              "  </tbody>\n",
              "</table>\n",
              "</div>"
            ],
            "text/plain": [
              "  match_id  season        city  ... venue_id    umpire1         umpire2\n",
              "0   2008_1    2008   Bangalore  ...        7  Asad Rauf     RE Koertzen\n",
              "1   2008_2    2008  Chandigarh  ...        9  MR Benson      SL Shastri\n",
              "2   2008_3    2008       Delhi  ...        2  Aleem Dar  GA Pratapkumar\n",
              "\n",
              "[3 rows x 19 columns]"
            ]
          },
          "metadata": {
            "tags": []
          },
          "execution_count": 154
        }
      ]
    },
    {
      "cell_type": "code",
      "metadata": {
        "id": "N7k8UFnUWQZd",
        "colab_type": "code",
        "colab": {
          "base_uri": "https://localhost:8080/",
          "height": 104
        },
        "outputId": "2fa3336d-fcdc-486b-f202-e4cbddf16f30"
      },
      "source": [
        "## .columns gives column names\n",
        "print(ipl_final.columns)                          # colnames() in R - Column Namesprint(list(df.index)[:10])"
      ],
      "execution_count": 155,
      "outputs": [
        {
          "output_type": "stream",
          "text": [
            "Index(['match_id', 'season', 'city', 'date', 'team1_id', 'team2_id',\n",
            "       'toss_winner', 'toss_decision', 'result', 'dl_applied', 'winner',\n",
            "       'win_by_runs', 'win_by_wickets', 'player_of_match',\n",
            "       'player_of_match_id', 'venue', 'venue_id', 'umpire1', 'umpire2'],\n",
            "      dtype='object')\n"
          ],
          "name": "stdout"
        }
      ]
    },
    {
      "cell_type": "code",
      "metadata": {
        "id": "pTmiFMh9b3ax",
        "colab_type": "code",
        "colab": {}
      },
      "source": [
        ""
      ],
      "execution_count": 0,
      "outputs": []
    },
    {
      "cell_type": "code",
      "metadata": {
        "id": "_nwHtEPMWQZi",
        "colab_type": "code",
        "colab": {
          "base_uri": "https://localhost:8080/",
          "height": 364
        },
        "outputId": "9d0ecb83-f314-4448-bcfd-502ea9f95b47"
      },
      "source": [
        "## .dtypes gives data types for each column\n",
        "print(ipl_final.dtypes)                           # str() in R - Data types"
      ],
      "execution_count": 156,
      "outputs": [
        {
          "output_type": "stream",
          "text": [
            "match_id               object\n",
            "season                  int64\n",
            "city                   object\n",
            "date                   object\n",
            "team1_id               object\n",
            "team2_id               object\n",
            "toss_winner            object\n",
            "toss_decision          object\n",
            "result                 object\n",
            "dl_applied              int64\n",
            "winner                 object\n",
            "win_by_runs             int64\n",
            "win_by_wickets          int64\n",
            "player_of_match        object\n",
            "player_of_match_id    float64\n",
            "venue                  object\n",
            "venue_id                int64\n",
            "umpire1                object\n",
            "umpire2                object\n",
            "dtype: object\n"
          ],
          "name": "stdout"
        }
      ]
    },
    {
      "cell_type": "markdown",
      "metadata": {
        "id": "UVom-zpCWQZn",
        "colab_type": "text"
      },
      "source": [
        "<br><br>\n",
        "## **Seting match_id as row index** (rarely used)"
      ]
    },
    {
      "cell_type": "code",
      "metadata": {
        "id": "aM0ShNcaWQZo",
        "colab_type": "code",
        "colab": {
          "base_uri": "https://localhost:8080/",
          "height": 334
        },
        "outputId": "22070b74-95d3-46fc-f607-7d4b7695fa3f"
      },
      "source": [
        "ipl_final.set_index(['match_id'],inplace=True)\n",
        "ipl_final.head(3)"
      ],
      "execution_count": 157,
      "outputs": [
        {
          "output_type": "execute_result",
          "data": {
            "text/html": [
              "<div>\n",
              "<style scoped>\n",
              "    .dataframe tbody tr th:only-of-type {\n",
              "        vertical-align: middle;\n",
              "    }\n",
              "\n",
              "    .dataframe tbody tr th {\n",
              "        vertical-align: top;\n",
              "    }\n",
              "\n",
              "    .dataframe thead th {\n",
              "        text-align: right;\n",
              "    }\n",
              "</style>\n",
              "<table border=\"1\" class=\"dataframe\">\n",
              "  <thead>\n",
              "    <tr style=\"text-align: right;\">\n",
              "      <th></th>\n",
              "      <th>season</th>\n",
              "      <th>city</th>\n",
              "      <th>date</th>\n",
              "      <th>team1_id</th>\n",
              "      <th>team2_id</th>\n",
              "      <th>toss_winner</th>\n",
              "      <th>toss_decision</th>\n",
              "      <th>result</th>\n",
              "      <th>dl_applied</th>\n",
              "      <th>winner</th>\n",
              "      <th>win_by_runs</th>\n",
              "      <th>win_by_wickets</th>\n",
              "      <th>player_of_match</th>\n",
              "      <th>player_of_match_id</th>\n",
              "      <th>venue</th>\n",
              "      <th>venue_id</th>\n",
              "      <th>umpire1</th>\n",
              "      <th>umpire2</th>\n",
              "    </tr>\n",
              "    <tr>\n",
              "      <th>match_id</th>\n",
              "      <th></th>\n",
              "      <th></th>\n",
              "      <th></th>\n",
              "      <th></th>\n",
              "      <th></th>\n",
              "      <th></th>\n",
              "      <th></th>\n",
              "      <th></th>\n",
              "      <th></th>\n",
              "      <th></th>\n",
              "      <th></th>\n",
              "      <th></th>\n",
              "      <th></th>\n",
              "      <th></th>\n",
              "      <th></th>\n",
              "      <th></th>\n",
              "      <th></th>\n",
              "      <th></th>\n",
              "    </tr>\n",
              "  </thead>\n",
              "  <tbody>\n",
              "    <tr>\n",
              "      <th>2008_1</th>\n",
              "      <td>2008</td>\n",
              "      <td>Bangalore</td>\n",
              "      <td>18-04-2008</td>\n",
              "      <td>KKR</td>\n",
              "      <td>RCB</td>\n",
              "      <td>RCB</td>\n",
              "      <td>field</td>\n",
              "      <td>normal</td>\n",
              "      <td>0</td>\n",
              "      <td>KKR</td>\n",
              "      <td>140</td>\n",
              "      <td>0</td>\n",
              "      <td>Brendon McCullum</td>\n",
              "      <td>82.0</td>\n",
              "      <td>M.Chinnaswamy Stadium Bengaluru, Karnataka</td>\n",
              "      <td>7</td>\n",
              "      <td>Asad Rauf</td>\n",
              "      <td>RE Koertzen</td>\n",
              "    </tr>\n",
              "    <tr>\n",
              "      <th>2008_2</th>\n",
              "      <td>2008</td>\n",
              "      <td>Chandigarh</td>\n",
              "      <td>19-04-2008</td>\n",
              "      <td>CSK</td>\n",
              "      <td>KXI</td>\n",
              "      <td>CSK</td>\n",
              "      <td>bat</td>\n",
              "      <td>normal</td>\n",
              "      <td>0</td>\n",
              "      <td>CSK</td>\n",
              "      <td>33</td>\n",
              "      <td>0</td>\n",
              "      <td>Michael Hussey</td>\n",
              "      <td>18.0</td>\n",
              "      <td>I.S. Bindra Punjab Cricket Association Stadium...</td>\n",
              "      <td>9</td>\n",
              "      <td>MR Benson</td>\n",
              "      <td>SL Shastri</td>\n",
              "    </tr>\n",
              "    <tr>\n",
              "      <th>2008_3</th>\n",
              "      <td>2008</td>\n",
              "      <td>Delhi</td>\n",
              "      <td>19-04-2008</td>\n",
              "      <td>RR</td>\n",
              "      <td>DD</td>\n",
              "      <td>RR</td>\n",
              "      <td>bat</td>\n",
              "      <td>normal</td>\n",
              "      <td>0</td>\n",
              "      <td>DD</td>\n",
              "      <td>0</td>\n",
              "      <td>9</td>\n",
              "      <td>Farveez Maharoof</td>\n",
              "      <td>60.0</td>\n",
              "      <td>Feroz Shah Kotla Stadium, Delhi</td>\n",
              "      <td>2</td>\n",
              "      <td>Aleem Dar</td>\n",
              "      <td>GA Pratapkumar</td>\n",
              "    </tr>\n",
              "  </tbody>\n",
              "</table>\n",
              "</div>"
            ],
            "text/plain": [
              "          season        city        date  ... venue_id    umpire1         umpire2\n",
              "match_id                                  ...                                    \n",
              "2008_1      2008   Bangalore  18-04-2008  ...        7  Asad Rauf     RE Koertzen\n",
              "2008_2      2008  Chandigarh  19-04-2008  ...        9  MR Benson      SL Shastri\n",
              "2008_3      2008       Delhi  19-04-2008  ...        2  Aleem Dar  GA Pratapkumar\n",
              "\n",
              "[3 rows x 18 columns]"
            ]
          },
          "metadata": {
            "tags": []
          },
          "execution_count": 157
        }
      ]
    },
    {
      "cell_type": "markdown",
      "metadata": {
        "id": "9IW31o-mWQZt",
        "colab_type": "text"
      },
      "source": [
        "## **Summary statistics**\n",
        "- using the describe method"
      ]
    },
    {
      "cell_type": "code",
      "metadata": {
        "id": "pbLnXLw3WQZu",
        "colab_type": "code",
        "colab": {
          "base_uri": "https://localhost:8080/",
          "height": 300
        },
        "outputId": "7b43ea53-8cb7-4dfb-ba59-7ce2f8c2c1cb"
      },
      "source": [
        "ipl.describe()"
      ],
      "execution_count": 158,
      "outputs": [
        {
          "output_type": "execute_result",
          "data": {
            "text/html": [
              "<div>\n",
              "<style scoped>\n",
              "    .dataframe tbody tr th:only-of-type {\n",
              "        vertical-align: middle;\n",
              "    }\n",
              "\n",
              "    .dataframe tbody tr th {\n",
              "        vertical-align: top;\n",
              "    }\n",
              "\n",
              "    .dataframe thead th {\n",
              "        text-align: right;\n",
              "    }\n",
              "</style>\n",
              "<table border=\"1\" class=\"dataframe\">\n",
              "  <thead>\n",
              "    <tr style=\"text-align: right;\">\n",
              "      <th></th>\n",
              "      <th>season</th>\n",
              "      <th>dl_applied</th>\n",
              "      <th>win_by_runs</th>\n",
              "      <th>win_by_wickets</th>\n",
              "      <th>player_of_match_id</th>\n",
              "      <th>venue_id</th>\n",
              "    </tr>\n",
              "  </thead>\n",
              "  <tbody>\n",
              "    <tr>\n",
              "      <th>count</th>\n",
              "      <td>577.000000</td>\n",
              "      <td>577.000000</td>\n",
              "      <td>577.000000</td>\n",
              "      <td>577.000000</td>\n",
              "      <td>574.000000</td>\n",
              "      <td>577.000000</td>\n",
              "    </tr>\n",
              "    <tr>\n",
              "      <th>mean</th>\n",
              "      <td>2012.029463</td>\n",
              "      <td>0.025997</td>\n",
              "      <td>13.715771</td>\n",
              "      <td>3.363951</td>\n",
              "      <td>187.937282</td>\n",
              "      <td>10.097054</td>\n",
              "    </tr>\n",
              "    <tr>\n",
              "      <th>std</th>\n",
              "      <td>2.486247</td>\n",
              "      <td>0.159263</td>\n",
              "      <td>23.619282</td>\n",
              "      <td>3.416049</td>\n",
              "      <td>163.146706</td>\n",
              "      <td>9.048535</td>\n",
              "    </tr>\n",
              "    <tr>\n",
              "      <th>min</th>\n",
              "      <td>2008.000000</td>\n",
              "      <td>0.000000</td>\n",
              "      <td>0.000000</td>\n",
              "      <td>0.000000</td>\n",
              "      <td>1.000000</td>\n",
              "      <td>1.000000</td>\n",
              "    </tr>\n",
              "    <tr>\n",
              "      <th>25%</th>\n",
              "      <td>2010.000000</td>\n",
              "      <td>0.000000</td>\n",
              "      <td>0.000000</td>\n",
              "      <td>0.000000</td>\n",
              "      <td>59.250000</td>\n",
              "      <td>3.000000</td>\n",
              "    </tr>\n",
              "    <tr>\n",
              "      <th>50%</th>\n",
              "      <td>2012.000000</td>\n",
              "      <td>0.000000</td>\n",
              "      <td>0.000000</td>\n",
              "      <td>3.000000</td>\n",
              "      <td>146.500000</td>\n",
              "      <td>7.000000</td>\n",
              "    </tr>\n",
              "    <tr>\n",
              "      <th>75%</th>\n",
              "      <td>2014.000000</td>\n",
              "      <td>0.000000</td>\n",
              "      <td>20.000000</td>\n",
              "      <td>6.000000</td>\n",
              "      <td>279.250000</td>\n",
              "      <td>14.000000</td>\n",
              "    </tr>\n",
              "    <tr>\n",
              "      <th>max</th>\n",
              "      <td>2016.000000</td>\n",
              "      <td>1.000000</td>\n",
              "      <td>144.000000</td>\n",
              "      <td>10.000000</td>\n",
              "      <td>691.000000</td>\n",
              "      <td>34.000000</td>\n",
              "    </tr>\n",
              "  </tbody>\n",
              "</table>\n",
              "</div>"
            ],
            "text/plain": [
              "            season  dl_applied  ...  player_of_match_id    venue_id\n",
              "count   577.000000  577.000000  ...          574.000000  577.000000\n",
              "mean   2012.029463    0.025997  ...          187.937282   10.097054\n",
              "std       2.486247    0.159263  ...          163.146706    9.048535\n",
              "min    2008.000000    0.000000  ...            1.000000    1.000000\n",
              "25%    2010.000000    0.000000  ...           59.250000    3.000000\n",
              "50%    2012.000000    0.000000  ...          146.500000    7.000000\n",
              "75%    2014.000000    0.000000  ...          279.250000   14.000000\n",
              "max    2016.000000    1.000000  ...          691.000000   34.000000\n",
              "\n",
              "[8 rows x 6 columns]"
            ]
          },
          "metadata": {
            "tags": []
          },
          "execution_count": 158
        }
      ]
    },
    {
      "cell_type": "markdown",
      "metadata": {
        "id": "Z74dA2SWWQZz",
        "colab_type": "text"
      },
      "source": [
        "## **Dropping columns**\n",
        "- using the drop method"
      ]
    },
    {
      "cell_type": "code",
      "metadata": {
        "id": "oCFPwi5jWQZz",
        "colab_type": "code",
        "colab": {
          "base_uri": "https://localhost:8080/",
          "height": 348
        },
        "outputId": "a08a292a-307b-487d-d6d7-ccb1b38df036"
      },
      "source": [
        "# Dropping Column\n",
        "ipl_final.drop([\"team2_id\"], axis=1, inplace=True)    # Axis = 1 for columns\n",
        "\n",
        "ipl.head(3)"
      ],
      "execution_count": 174,
      "outputs": [
        {
          "output_type": "error",
          "ename": "KeyError",
          "evalue": "ignored",
          "traceback": [
            "\u001b[0;31m---------------------------------------------------------------------------\u001b[0m",
            "\u001b[0;31mKeyError\u001b[0m                                  Traceback (most recent call last)",
            "\u001b[0;32m<ipython-input-174-ef4e2b6d6d7b>\u001b[0m in \u001b[0;36m<module>\u001b[0;34m()\u001b[0m\n\u001b[0;32m----> 1\u001b[0;31m \u001b[0mipl_final\u001b[0m\u001b[0;34m.\u001b[0m\u001b[0mdrop\u001b[0m\u001b[0;34m(\u001b[0m\u001b[0;34m[\u001b[0m\u001b[0;34m\"team2_id\"\u001b[0m\u001b[0;34m]\u001b[0m\u001b[0;34m,\u001b[0m \u001b[0maxis\u001b[0m\u001b[0;34m=\u001b[0m\u001b[0;36m1\u001b[0m\u001b[0;34m,\u001b[0m \u001b[0minplace\u001b[0m\u001b[0;34m=\u001b[0m\u001b[0;32mTrue\u001b[0m\u001b[0;34m)\u001b[0m    \u001b[0;31m# Axis = 1 for columns\u001b[0m\u001b[0;34m\u001b[0m\u001b[0;34m\u001b[0m\u001b[0m\n\u001b[0m\u001b[1;32m      2\u001b[0m \u001b[0;34m\u001b[0m\u001b[0m\n\u001b[1;32m      3\u001b[0m \u001b[0mipl\u001b[0m\u001b[0;34m.\u001b[0m\u001b[0mhead\u001b[0m\u001b[0;34m(\u001b[0m\u001b[0;36m3\u001b[0m\u001b[0;34m)\u001b[0m\u001b[0;34m\u001b[0m\u001b[0;34m\u001b[0m\u001b[0m\n",
            "\u001b[0;32m/usr/local/lib/python3.6/dist-packages/pandas/core/frame.py\u001b[0m in \u001b[0;36mdrop\u001b[0;34m(self, labels, axis, index, columns, level, inplace, errors)\u001b[0m\n\u001b[1;32m   4115\u001b[0m             \u001b[0mlevel\u001b[0m\u001b[0;34m=\u001b[0m\u001b[0mlevel\u001b[0m\u001b[0;34m,\u001b[0m\u001b[0;34m\u001b[0m\u001b[0;34m\u001b[0m\u001b[0m\n\u001b[1;32m   4116\u001b[0m             \u001b[0minplace\u001b[0m\u001b[0;34m=\u001b[0m\u001b[0minplace\u001b[0m\u001b[0;34m,\u001b[0m\u001b[0;34m\u001b[0m\u001b[0;34m\u001b[0m\u001b[0m\n\u001b[0;32m-> 4117\u001b[0;31m             \u001b[0merrors\u001b[0m\u001b[0;34m=\u001b[0m\u001b[0merrors\u001b[0m\u001b[0;34m,\u001b[0m\u001b[0;34m\u001b[0m\u001b[0;34m\u001b[0m\u001b[0m\n\u001b[0m\u001b[1;32m   4118\u001b[0m         )\n\u001b[1;32m   4119\u001b[0m \u001b[0;34m\u001b[0m\u001b[0m\n",
            "\u001b[0;32m/usr/local/lib/python3.6/dist-packages/pandas/core/generic.py\u001b[0m in \u001b[0;36mdrop\u001b[0;34m(self, labels, axis, index, columns, level, inplace, errors)\u001b[0m\n\u001b[1;32m   3912\u001b[0m         \u001b[0;32mfor\u001b[0m \u001b[0maxis\u001b[0m\u001b[0;34m,\u001b[0m \u001b[0mlabels\u001b[0m \u001b[0;32min\u001b[0m \u001b[0maxes\u001b[0m\u001b[0;34m.\u001b[0m\u001b[0mitems\u001b[0m\u001b[0;34m(\u001b[0m\u001b[0;34m)\u001b[0m\u001b[0;34m:\u001b[0m\u001b[0;34m\u001b[0m\u001b[0;34m\u001b[0m\u001b[0m\n\u001b[1;32m   3913\u001b[0m             \u001b[0;32mif\u001b[0m \u001b[0mlabels\u001b[0m \u001b[0;32mis\u001b[0m \u001b[0;32mnot\u001b[0m \u001b[0;32mNone\u001b[0m\u001b[0;34m:\u001b[0m\u001b[0;34m\u001b[0m\u001b[0;34m\u001b[0m\u001b[0m\n\u001b[0;32m-> 3914\u001b[0;31m                 \u001b[0mobj\u001b[0m \u001b[0;34m=\u001b[0m \u001b[0mobj\u001b[0m\u001b[0;34m.\u001b[0m\u001b[0m_drop_axis\u001b[0m\u001b[0;34m(\u001b[0m\u001b[0mlabels\u001b[0m\u001b[0;34m,\u001b[0m \u001b[0maxis\u001b[0m\u001b[0;34m,\u001b[0m \u001b[0mlevel\u001b[0m\u001b[0;34m=\u001b[0m\u001b[0mlevel\u001b[0m\u001b[0;34m,\u001b[0m \u001b[0merrors\u001b[0m\u001b[0;34m=\u001b[0m\u001b[0merrors\u001b[0m\u001b[0;34m)\u001b[0m\u001b[0;34m\u001b[0m\u001b[0;34m\u001b[0m\u001b[0m\n\u001b[0m\u001b[1;32m   3915\u001b[0m \u001b[0;34m\u001b[0m\u001b[0m\n\u001b[1;32m   3916\u001b[0m         \u001b[0;32mif\u001b[0m \u001b[0minplace\u001b[0m\u001b[0;34m:\u001b[0m\u001b[0;34m\u001b[0m\u001b[0;34m\u001b[0m\u001b[0m\n",
            "\u001b[0;32m/usr/local/lib/python3.6/dist-packages/pandas/core/generic.py\u001b[0m in \u001b[0;36m_drop_axis\u001b[0;34m(self, labels, axis, level, errors)\u001b[0m\n\u001b[1;32m   3944\u001b[0m                 \u001b[0mnew_axis\u001b[0m \u001b[0;34m=\u001b[0m \u001b[0maxis\u001b[0m\u001b[0;34m.\u001b[0m\u001b[0mdrop\u001b[0m\u001b[0;34m(\u001b[0m\u001b[0mlabels\u001b[0m\u001b[0;34m,\u001b[0m \u001b[0mlevel\u001b[0m\u001b[0;34m=\u001b[0m\u001b[0mlevel\u001b[0m\u001b[0;34m,\u001b[0m \u001b[0merrors\u001b[0m\u001b[0;34m=\u001b[0m\u001b[0merrors\u001b[0m\u001b[0;34m)\u001b[0m\u001b[0;34m\u001b[0m\u001b[0;34m\u001b[0m\u001b[0m\n\u001b[1;32m   3945\u001b[0m             \u001b[0;32melse\u001b[0m\u001b[0;34m:\u001b[0m\u001b[0;34m\u001b[0m\u001b[0;34m\u001b[0m\u001b[0m\n\u001b[0;32m-> 3946\u001b[0;31m                 \u001b[0mnew_axis\u001b[0m \u001b[0;34m=\u001b[0m \u001b[0maxis\u001b[0m\u001b[0;34m.\u001b[0m\u001b[0mdrop\u001b[0m\u001b[0;34m(\u001b[0m\u001b[0mlabels\u001b[0m\u001b[0;34m,\u001b[0m \u001b[0merrors\u001b[0m\u001b[0;34m=\u001b[0m\u001b[0merrors\u001b[0m\u001b[0;34m)\u001b[0m\u001b[0;34m\u001b[0m\u001b[0;34m\u001b[0m\u001b[0m\n\u001b[0m\u001b[1;32m   3947\u001b[0m             \u001b[0mresult\u001b[0m \u001b[0;34m=\u001b[0m \u001b[0mself\u001b[0m\u001b[0;34m.\u001b[0m\u001b[0mreindex\u001b[0m\u001b[0;34m(\u001b[0m\u001b[0;34m**\u001b[0m\u001b[0;34m{\u001b[0m\u001b[0maxis_name\u001b[0m\u001b[0;34m:\u001b[0m \u001b[0mnew_axis\u001b[0m\u001b[0;34m}\u001b[0m\u001b[0;34m)\u001b[0m\u001b[0;34m\u001b[0m\u001b[0;34m\u001b[0m\u001b[0m\n\u001b[1;32m   3948\u001b[0m \u001b[0;34m\u001b[0m\u001b[0m\n",
            "\u001b[0;32m/usr/local/lib/python3.6/dist-packages/pandas/core/indexes/base.py\u001b[0m in \u001b[0;36mdrop\u001b[0;34m(self, labels, errors)\u001b[0m\n\u001b[1;32m   5338\u001b[0m         \u001b[0;32mif\u001b[0m \u001b[0mmask\u001b[0m\u001b[0;34m.\u001b[0m\u001b[0many\u001b[0m\u001b[0;34m(\u001b[0m\u001b[0;34m)\u001b[0m\u001b[0;34m:\u001b[0m\u001b[0;34m\u001b[0m\u001b[0;34m\u001b[0m\u001b[0m\n\u001b[1;32m   5339\u001b[0m             \u001b[0;32mif\u001b[0m \u001b[0merrors\u001b[0m \u001b[0;34m!=\u001b[0m \u001b[0;34m\"ignore\"\u001b[0m\u001b[0;34m:\u001b[0m\u001b[0;34m\u001b[0m\u001b[0;34m\u001b[0m\u001b[0m\n\u001b[0;32m-> 5340\u001b[0;31m                 \u001b[0;32mraise\u001b[0m \u001b[0mKeyError\u001b[0m\u001b[0;34m(\u001b[0m\u001b[0;34m\"{} not found in axis\"\u001b[0m\u001b[0;34m.\u001b[0m\u001b[0mformat\u001b[0m\u001b[0;34m(\u001b[0m\u001b[0mlabels\u001b[0m\u001b[0;34m[\u001b[0m\u001b[0mmask\u001b[0m\u001b[0;34m]\u001b[0m\u001b[0;34m)\u001b[0m\u001b[0;34m)\u001b[0m\u001b[0;34m\u001b[0m\u001b[0;34m\u001b[0m\u001b[0m\n\u001b[0m\u001b[1;32m   5341\u001b[0m             \u001b[0mindexer\u001b[0m \u001b[0;34m=\u001b[0m \u001b[0mindexer\u001b[0m\u001b[0;34m[\u001b[0m\u001b[0;34m~\u001b[0m\u001b[0mmask\u001b[0m\u001b[0;34m]\u001b[0m\u001b[0;34m\u001b[0m\u001b[0;34m\u001b[0m\u001b[0m\n\u001b[1;32m   5342\u001b[0m         \u001b[0;32mreturn\u001b[0m \u001b[0mself\u001b[0m\u001b[0;34m.\u001b[0m\u001b[0mdelete\u001b[0m\u001b[0;34m(\u001b[0m\u001b[0mindexer\u001b[0m\u001b[0;34m)\u001b[0m\u001b[0;34m\u001b[0m\u001b[0;34m\u001b[0m\u001b[0m\n",
            "\u001b[0;31mKeyError\u001b[0m: \"['team2_id'] not found in axis\""
          ]
        }
      ]
    },
    {
      "cell_type": "markdown",
      "metadata": {
        "id": "Emb8KNEaWQZ4",
        "colab_type": "text"
      },
      "source": [
        "## **Dropping row**"
      ]
    },
    {
      "cell_type": "code",
      "metadata": {
        "id": "q9-7IBe5k-wA",
        "colab_type": "code",
        "colab": {
          "base_uri": "https://localhost:8080/",
          "height": 716
        },
        "outputId": "5e96b256-54c7-44bf-b86a-07fdbe20293d"
      },
      "source": [
        "ipl_final"
      ],
      "execution_count": 173,
      "outputs": [
        {
          "output_type": "execute_result",
          "data": {
            "text/html": [
              "<div>\n",
              "<style scoped>\n",
              "    .dataframe tbody tr th:only-of-type {\n",
              "        vertical-align: middle;\n",
              "    }\n",
              "\n",
              "    .dataframe tbody tr th {\n",
              "        vertical-align: top;\n",
              "    }\n",
              "\n",
              "    .dataframe thead th {\n",
              "        text-align: right;\n",
              "    }\n",
              "</style>\n",
              "<table border=\"1\" class=\"dataframe\">\n",
              "  <thead>\n",
              "    <tr style=\"text-align: right;\">\n",
              "      <th></th>\n",
              "      <th>season</th>\n",
              "      <th>date</th>\n",
              "      <th>team1_id</th>\n",
              "      <th>toss_winner</th>\n",
              "      <th>toss_decision</th>\n",
              "      <th>dl_applied</th>\n",
              "      <th>winner</th>\n",
              "      <th>win_by_runs</th>\n",
              "      <th>win_by_wickets</th>\n",
              "      <th>player_of_match</th>\n",
              "      <th>player_of_match_id</th>\n",
              "      <th>venue</th>\n",
              "      <th>venue_id</th>\n",
              "      <th>umpire1</th>\n",
              "      <th>umpire2</th>\n",
              "    </tr>\n",
              "    <tr>\n",
              "      <th>match_id</th>\n",
              "      <th></th>\n",
              "      <th></th>\n",
              "      <th></th>\n",
              "      <th></th>\n",
              "      <th></th>\n",
              "      <th></th>\n",
              "      <th></th>\n",
              "      <th></th>\n",
              "      <th></th>\n",
              "      <th></th>\n",
              "      <th></th>\n",
              "      <th></th>\n",
              "      <th></th>\n",
              "      <th></th>\n",
              "      <th></th>\n",
              "    </tr>\n",
              "  </thead>\n",
              "  <tbody>\n",
              "    <tr>\n",
              "      <th>2008_2</th>\n",
              "      <td>2008</td>\n",
              "      <td>19-04-2008</td>\n",
              "      <td>CSK</td>\n",
              "      <td>CSK</td>\n",
              "      <td>bat</td>\n",
              "      <td>0</td>\n",
              "      <td>CSK</td>\n",
              "      <td>33</td>\n",
              "      <td>0</td>\n",
              "      <td>Michael Hussey</td>\n",
              "      <td>18.0</td>\n",
              "      <td>I.S. Bindra Punjab Cricket Association Stadium...</td>\n",
              "      <td>9</td>\n",
              "      <td>MR Benson</td>\n",
              "      <td>SL Shastri</td>\n",
              "    </tr>\n",
              "    <tr>\n",
              "      <th>2008_3</th>\n",
              "      <td>2008</td>\n",
              "      <td>19-04-2008</td>\n",
              "      <td>RR</td>\n",
              "      <td>RR</td>\n",
              "      <td>bat</td>\n",
              "      <td>0</td>\n",
              "      <td>DD</td>\n",
              "      <td>0</td>\n",
              "      <td>9</td>\n",
              "      <td>Farveez Maharoof</td>\n",
              "      <td>60.0</td>\n",
              "      <td>Feroz Shah Kotla Stadium, Delhi</td>\n",
              "      <td>2</td>\n",
              "      <td>Aleem Dar</td>\n",
              "      <td>GA Pratapkumar</td>\n",
              "    </tr>\n",
              "    <tr>\n",
              "      <th>2008_4</th>\n",
              "      <td>2008</td>\n",
              "      <td>20-04-2008</td>\n",
              "      <td>MI</td>\n",
              "      <td>MI</td>\n",
              "      <td>bat</td>\n",
              "      <td>0</td>\n",
              "      <td>RCB</td>\n",
              "      <td>0</td>\n",
              "      <td>5</td>\n",
              "      <td>Mark Boucher</td>\n",
              "      <td>145.0</td>\n",
              "      <td>Wankhede Stadium, Mumbai, Maharashtra</td>\n",
              "      <td>1</td>\n",
              "      <td>SJ Davis</td>\n",
              "      <td>DJ Harper</td>\n",
              "    </tr>\n",
              "    <tr>\n",
              "      <th>2008_5</th>\n",
              "      <td>2008</td>\n",
              "      <td>20-04-2008</td>\n",
              "      <td>DC</td>\n",
              "      <td>DC</td>\n",
              "      <td>bat</td>\n",
              "      <td>0</td>\n",
              "      <td>KKR</td>\n",
              "      <td>0</td>\n",
              "      <td>5</td>\n",
              "      <td>David Hussey</td>\n",
              "      <td>80.0</td>\n",
              "      <td>Eden Garden Stadium, Kolkata, West Bengal</td>\n",
              "      <td>3</td>\n",
              "      <td>BF Bowden</td>\n",
              "      <td>K Hariharan</td>\n",
              "    </tr>\n",
              "    <tr>\n",
              "      <th>2008_6</th>\n",
              "      <td>2008</td>\n",
              "      <td>21-04-2008</td>\n",
              "      <td>KXI</td>\n",
              "      <td>KXI</td>\n",
              "      <td>bat</td>\n",
              "      <td>0</td>\n",
              "      <td>RR</td>\n",
              "      <td>0</td>\n",
              "      <td>6</td>\n",
              "      <td>Shane Watson</td>\n",
              "      <td>175.0</td>\n",
              "      <td>Sawai Man Singh Stadium, Jaipur, Rajasthan</td>\n",
              "      <td>6</td>\n",
              "      <td>Aleem Dar</td>\n",
              "      <td>RB Tiffin</td>\n",
              "    </tr>\n",
              "    <tr>\n",
              "      <th>...</th>\n",
              "      <td>...</td>\n",
              "      <td>...</td>\n",
              "      <td>...</td>\n",
              "      <td>...</td>\n",
              "      <td>...</td>\n",
              "      <td>...</td>\n",
              "      <td>...</td>\n",
              "      <td>...</td>\n",
              "      <td>...</td>\n",
              "      <td>...</td>\n",
              "      <td>...</td>\n",
              "      <td>...</td>\n",
              "      <td>...</td>\n",
              "      <td>...</td>\n",
              "      <td>...</td>\n",
              "    </tr>\n",
              "    <tr>\n",
              "      <th>2017_55</th>\n",
              "      <td>2017</td>\n",
              "      <td>14-05-2017</td>\n",
              "      <td>RCB</td>\n",
              "      <td>RCB</td>\n",
              "      <td>bat</td>\n",
              "      <td>0</td>\n",
              "      <td>RCB</td>\n",
              "      <td>10</td>\n",
              "      <td>0</td>\n",
              "      <td>Harshal Patel</td>\n",
              "      <td>456.0</td>\n",
              "      <td>Feroz Shah Kotla Stadium, Delhi</td>\n",
              "      <td>2</td>\n",
              "      <td>CK Nandan</td>\n",
              "      <td>C Shamshuddin</td>\n",
              "    </tr>\n",
              "    <tr>\n",
              "      <th>2017_56</th>\n",
              "      <td>2017</td>\n",
              "      <td>16-05-2017</td>\n",
              "      <td>RPS</td>\n",
              "      <td>MI</td>\n",
              "      <td>field</td>\n",
              "      <td>0</td>\n",
              "      <td>RPS</td>\n",
              "      <td>20</td>\n",
              "      <td>0</td>\n",
              "      <td>Washington Sunder</td>\n",
              "      <td>631.0</td>\n",
              "      <td>Wankhede Stadium, Mumbai, Maharashtra</td>\n",
              "      <td>1</td>\n",
              "      <td>S Ravi</td>\n",
              "      <td>C Shamshuddin</td>\n",
              "    </tr>\n",
              "    <tr>\n",
              "      <th>2017_57</th>\n",
              "      <td>2017</td>\n",
              "      <td>17-05-2017</td>\n",
              "      <td>SRH</td>\n",
              "      <td>KKR</td>\n",
              "      <td>field</td>\n",
              "      <td>1</td>\n",
              "      <td>KKR</td>\n",
              "      <td>0</td>\n",
              "      <td>7</td>\n",
              "      <td>Nathan Coulter-Nile</td>\n",
              "      <td>484.0</td>\n",
              "      <td>M.Chinnaswamy Stadium Bengaluru, Karnataka</td>\n",
              "      <td>7</td>\n",
              "      <td>AK Chaudhary</td>\n",
              "      <td>Nitin Menon</td>\n",
              "    </tr>\n",
              "    <tr>\n",
              "      <th>2017_58</th>\n",
              "      <td>2017</td>\n",
              "      <td>19-05-2017</td>\n",
              "      <td>KKR</td>\n",
              "      <td>MI</td>\n",
              "      <td>field</td>\n",
              "      <td>0</td>\n",
              "      <td>MI</td>\n",
              "      <td>0</td>\n",
              "      <td>6</td>\n",
              "      <td>Karn Sharma</td>\n",
              "      <td>254.0</td>\n",
              "      <td>M.Chinnaswamy Stadium Bengaluru, Karnataka</td>\n",
              "      <td>7</td>\n",
              "      <td>NJ Llong</td>\n",
              "      <td>Nitin Menon</td>\n",
              "    </tr>\n",
              "    <tr>\n",
              "      <th>2017_59</th>\n",
              "      <td>2017</td>\n",
              "      <td>21-05-2017</td>\n",
              "      <td>MI</td>\n",
              "      <td>MI</td>\n",
              "      <td>bat</td>\n",
              "      <td>0</td>\n",
              "      <td>MI</td>\n",
              "      <td>1</td>\n",
              "      <td>0</td>\n",
              "      <td>Krunal Pandya</td>\n",
              "      <td>582.0</td>\n",
              "      <td>Rajiv Gandhi International Stadium, Hyderabad</td>\n",
              "      <td>4</td>\n",
              "      <td>NJ Llong</td>\n",
              "      <td>S Ravi</td>\n",
              "    </tr>\n",
              "  </tbody>\n",
              "</table>\n",
              "<p>633 rows × 15 columns</p>\n",
              "</div>"
            ],
            "text/plain": [
              "          season        date team1_id  ... venue_id       umpire1         umpire2\n",
              "match_id                               ...                                       \n",
              "2008_2      2008  19-04-2008      CSK  ...        9     MR Benson      SL Shastri\n",
              "2008_3      2008  19-04-2008       RR  ...        2     Aleem Dar  GA Pratapkumar\n",
              "2008_4      2008  20-04-2008       MI  ...        1      SJ Davis       DJ Harper\n",
              "2008_5      2008  20-04-2008       DC  ...        3     BF Bowden     K Hariharan\n",
              "2008_6      2008  21-04-2008      KXI  ...        6     Aleem Dar       RB Tiffin\n",
              "...          ...         ...      ...  ...      ...           ...             ...\n",
              "2017_55     2017  14-05-2017      RCB  ...        2     CK Nandan   C Shamshuddin\n",
              "2017_56     2017  16-05-2017      RPS  ...        1        S Ravi   C Shamshuddin\n",
              "2017_57     2017  17-05-2017      SRH  ...        7  AK Chaudhary     Nitin Menon\n",
              "2017_58     2017  19-05-2017      KKR  ...        7      NJ Llong     Nitin Menon\n",
              "2017_59     2017  21-05-2017       MI  ...        4      NJ Llong          S Ravi\n",
              "\n",
              "[633 rows x 15 columns]"
            ]
          },
          "metadata": {
            "tags": []
          },
          "execution_count": 173
        }
      ]
    },
    {
      "cell_type": "code",
      "metadata": {
        "id": "EMKWoABJWQZ5",
        "colab_type": "code",
        "colab": {
          "base_uri": "https://localhost:8080/",
          "height": 302
        },
        "outputId": "a85b0be7-a575-43ae-f4ae-8c24027cb88d"
      },
      "source": [
        "# Dropping rows\n",
        "ipl_final.drop(['2008_1','2009_1','2010_1'], axis=0, inplace=True)  # axis = 0 for rows and axis=1 for columns\n",
        "\n",
        "ipl.head(3)"
      ],
      "execution_count": 160,
      "outputs": [
        {
          "output_type": "execute_result",
          "data": {
            "text/html": [
              "<div>\n",
              "<style scoped>\n",
              "    .dataframe tbody tr th:only-of-type {\n",
              "        vertical-align: middle;\n",
              "    }\n",
              "\n",
              "    .dataframe tbody tr th {\n",
              "        vertical-align: top;\n",
              "    }\n",
              "\n",
              "    .dataframe thead th {\n",
              "        text-align: right;\n",
              "    }\n",
              "</style>\n",
              "<table border=\"1\" class=\"dataframe\">\n",
              "  <thead>\n",
              "    <tr style=\"text-align: right;\">\n",
              "      <th></th>\n",
              "      <th>match_id</th>\n",
              "      <th>season</th>\n",
              "      <th>city</th>\n",
              "      <th>date</th>\n",
              "      <th>team1_id</th>\n",
              "      <th>team2_id</th>\n",
              "      <th>toss_winner</th>\n",
              "      <th>toss_decision</th>\n",
              "      <th>result</th>\n",
              "      <th>dl_applied</th>\n",
              "      <th>winner</th>\n",
              "      <th>win_by_runs</th>\n",
              "      <th>win_by_wickets</th>\n",
              "      <th>player_of_match</th>\n",
              "      <th>player_of_match_id</th>\n",
              "      <th>venue</th>\n",
              "      <th>venue_id</th>\n",
              "      <th>umpire1</th>\n",
              "      <th>umpire2</th>\n",
              "    </tr>\n",
              "  </thead>\n",
              "  <tbody>\n",
              "    <tr>\n",
              "      <th>0</th>\n",
              "      <td>2008_1</td>\n",
              "      <td>2008</td>\n",
              "      <td>Bangalore</td>\n",
              "      <td>18-04-2008</td>\n",
              "      <td>KKR</td>\n",
              "      <td>RCB</td>\n",
              "      <td>RCB</td>\n",
              "      <td>field</td>\n",
              "      <td>normal</td>\n",
              "      <td>0</td>\n",
              "      <td>KKR</td>\n",
              "      <td>140</td>\n",
              "      <td>0</td>\n",
              "      <td>Brendon McCullum</td>\n",
              "      <td>82.0</td>\n",
              "      <td>M.Chinnaswamy Stadium Bengaluru, Karnataka</td>\n",
              "      <td>7</td>\n",
              "      <td>Asad Rauf</td>\n",
              "      <td>RE Koertzen</td>\n",
              "    </tr>\n",
              "    <tr>\n",
              "      <th>1</th>\n",
              "      <td>2008_2</td>\n",
              "      <td>2008</td>\n",
              "      <td>Chandigarh</td>\n",
              "      <td>19-04-2008</td>\n",
              "      <td>CSK</td>\n",
              "      <td>KXI</td>\n",
              "      <td>CSK</td>\n",
              "      <td>bat</td>\n",
              "      <td>normal</td>\n",
              "      <td>0</td>\n",
              "      <td>CSK</td>\n",
              "      <td>33</td>\n",
              "      <td>0</td>\n",
              "      <td>Michael Hussey</td>\n",
              "      <td>18.0</td>\n",
              "      <td>I.S. Bindra Punjab Cricket Association Stadium...</td>\n",
              "      <td>9</td>\n",
              "      <td>MR Benson</td>\n",
              "      <td>SL Shastri</td>\n",
              "    </tr>\n",
              "    <tr>\n",
              "      <th>2</th>\n",
              "      <td>2008_3</td>\n",
              "      <td>2008</td>\n",
              "      <td>Delhi</td>\n",
              "      <td>19-04-2008</td>\n",
              "      <td>RR</td>\n",
              "      <td>DD</td>\n",
              "      <td>RR</td>\n",
              "      <td>bat</td>\n",
              "      <td>normal</td>\n",
              "      <td>0</td>\n",
              "      <td>DD</td>\n",
              "      <td>0</td>\n",
              "      <td>9</td>\n",
              "      <td>Farveez Maharoof</td>\n",
              "      <td>60.0</td>\n",
              "      <td>Feroz Shah Kotla Stadium, Delhi</td>\n",
              "      <td>2</td>\n",
              "      <td>Aleem Dar</td>\n",
              "      <td>GA Pratapkumar</td>\n",
              "    </tr>\n",
              "  </tbody>\n",
              "</table>\n",
              "</div>"
            ],
            "text/plain": [
              "  match_id  season        city  ... venue_id    umpire1         umpire2\n",
              "0   2008_1    2008   Bangalore  ...        7  Asad Rauf     RE Koertzen\n",
              "1   2008_2    2008  Chandigarh  ...        9  MR Benson      SL Shastri\n",
              "2   2008_3    2008       Delhi  ...        2  Aleem Dar  GA Pratapkumar\n",
              "\n",
              "[3 rows x 19 columns]"
            ]
          },
          "metadata": {
            "tags": []
          },
          "execution_count": 160
        }
      ]
    },
    {
      "cell_type": "markdown",
      "metadata": {
        "id": "Uhb8vUL5WQZ-",
        "colab_type": "text"
      },
      "source": [
        "## **Frequency distribution**\n",
        "- using method value_counts for getting the distribution of values for categories"
      ]
    },
    {
      "cell_type": "code",
      "metadata": {
        "id": "Kq9wMJywWQZ_",
        "colab_type": "code",
        "colab": {
          "base_uri": "https://localhost:8080/",
          "height": 260
        },
        "outputId": "21c281b5-4233-435a-87a2-7395bae54216"
      },
      "source": [
        "ipl_final['winner'].value_counts()       # table() in R - Frequency count"
      ],
      "execution_count": 161,
      "outputs": [
        {
          "output_type": "execute_result",
          "data": {
            "text/plain": [
              "MI     91\n",
              "CSK    79\n",
              "KKR    75\n",
              "RCB    73\n",
              "KXI    70\n",
              "RR     63\n",
              "DD     62\n",
              "SRH    42\n",
              "DC     29\n",
              "RPS    15\n",
              "GL     13\n",
              "PW     12\n",
              "KTK     6\n",
              "Name: winner, dtype: int64"
            ]
          },
          "metadata": {
            "tags": []
          },
          "execution_count": 161
        }
      ]
    },
    {
      "cell_type": "markdown",
      "metadata": {
        "id": "RVwpTjdaWQaC",
        "colab_type": "text"
      },
      "source": [
        "## **loc (to subset data by Row/Column labels)**"
      ]
    },
    {
      "cell_type": "code",
      "metadata": {
        "id": "UvU01w70WQaD",
        "colab_type": "code",
        "colab": {
          "base_uri": "https://localhost:8080/",
          "height": 175
        },
        "outputId": "4b79232b-163b-4b5d-faaa-3ca47bd2b45a"
      },
      "source": [
        "## Label based indexing make more sense for column subsetting\n",
        "#Select only venue and winner columns\n",
        "subset1 = ipl_final.loc[:,['venue','winner']]\n",
        "subset1.head(3)"
      ],
      "execution_count": 162,
      "outputs": [
        {
          "output_type": "execute_result",
          "data": {
            "text/html": [
              "<div>\n",
              "<style scoped>\n",
              "    .dataframe tbody tr th:only-of-type {\n",
              "        vertical-align: middle;\n",
              "    }\n",
              "\n",
              "    .dataframe tbody tr th {\n",
              "        vertical-align: top;\n",
              "    }\n",
              "\n",
              "    .dataframe thead th {\n",
              "        text-align: right;\n",
              "    }\n",
              "</style>\n",
              "<table border=\"1\" class=\"dataframe\">\n",
              "  <thead>\n",
              "    <tr style=\"text-align: right;\">\n",
              "      <th></th>\n",
              "      <th>venue</th>\n",
              "      <th>winner</th>\n",
              "    </tr>\n",
              "    <tr>\n",
              "      <th>match_id</th>\n",
              "      <th></th>\n",
              "      <th></th>\n",
              "    </tr>\n",
              "  </thead>\n",
              "  <tbody>\n",
              "    <tr>\n",
              "      <th>2008_2</th>\n",
              "      <td>I.S. Bindra Punjab Cricket Association Stadium...</td>\n",
              "      <td>CSK</td>\n",
              "    </tr>\n",
              "    <tr>\n",
              "      <th>2008_3</th>\n",
              "      <td>Feroz Shah Kotla Stadium, Delhi</td>\n",
              "      <td>DD</td>\n",
              "    </tr>\n",
              "    <tr>\n",
              "      <th>2008_4</th>\n",
              "      <td>Wankhede Stadium, Mumbai, Maharashtra</td>\n",
              "      <td>RCB</td>\n",
              "    </tr>\n",
              "  </tbody>\n",
              "</table>\n",
              "</div>"
            ],
            "text/plain": [
              "                                                      venue winner\n",
              "match_id                                                          \n",
              "2008_2    I.S. Bindra Punjab Cricket Association Stadium...    CSK\n",
              "2008_3                      Feroz Shah Kotla Stadium, Delhi     DD\n",
              "2008_4                Wankhede Stadium, Mumbai, Maharashtra    RCB"
            ]
          },
          "metadata": {
            "tags": []
          },
          "execution_count": 162
        }
      ]
    },
    {
      "cell_type": "code",
      "metadata": {
        "id": "KIM0jsWYWQaH",
        "colab_type": "code",
        "colab": {
          "base_uri": "https://localhost:8080/",
          "height": 175
        },
        "outputId": "f388ea45-4712-4fbb-e6d0-237b1863de10"
      },
      "source": [
        "## For loc based subsetting using row and column indexer together is rare.\n",
        "subset2 = ipl_final.loc[['2008_2','2009_2','2010_2',],['venue','winner']]\n",
        "subset2.head(3)"
      ],
      "execution_count": 163,
      "outputs": [
        {
          "output_type": "execute_result",
          "data": {
            "text/html": [
              "<div>\n",
              "<style scoped>\n",
              "    .dataframe tbody tr th:only-of-type {\n",
              "        vertical-align: middle;\n",
              "    }\n",
              "\n",
              "    .dataframe tbody tr th {\n",
              "        vertical-align: top;\n",
              "    }\n",
              "\n",
              "    .dataframe thead th {\n",
              "        text-align: right;\n",
              "    }\n",
              "</style>\n",
              "<table border=\"1\" class=\"dataframe\">\n",
              "  <thead>\n",
              "    <tr style=\"text-align: right;\">\n",
              "      <th></th>\n",
              "      <th>venue</th>\n",
              "      <th>winner</th>\n",
              "    </tr>\n",
              "    <tr>\n",
              "      <th>match_id</th>\n",
              "      <th></th>\n",
              "      <th></th>\n",
              "    </tr>\n",
              "  </thead>\n",
              "  <tbody>\n",
              "    <tr>\n",
              "      <th>2008_2</th>\n",
              "      <td>I.S. Bindra Punjab Cricket Association Stadium...</td>\n",
              "      <td>CSK</td>\n",
              "    </tr>\n",
              "    <tr>\n",
              "      <th>2009_2</th>\n",
              "      <td>Newlands</td>\n",
              "      <td>RCB</td>\n",
              "    </tr>\n",
              "    <tr>\n",
              "      <th>2010_2</th>\n",
              "      <td>Brabourne Stadium</td>\n",
              "      <td>MI</td>\n",
              "    </tr>\n",
              "  </tbody>\n",
              "</table>\n",
              "</div>"
            ],
            "text/plain": [
              "                                                      venue winner\n",
              "match_id                                                          \n",
              "2008_2    I.S. Bindra Punjab Cricket Association Stadium...    CSK\n",
              "2009_2                                             Newlands    RCB\n",
              "2010_2                                    Brabourne Stadium     MI"
            ]
          },
          "metadata": {
            "tags": []
          },
          "execution_count": 163
        }
      ]
    },
    {
      "cell_type": "markdown",
      "metadata": {
        "id": "_V4J2yGuWQaK",
        "colab_type": "text"
      },
      "source": [
        "## **iloc    (to subset data based on Row/Column number)**"
      ]
    },
    {
      "cell_type": "code",
      "metadata": {
        "id": "97YkvlbwWQaM",
        "colab_type": "code",
        "colab": {
          "base_uri": "https://localhost:8080/",
          "height": 143
        },
        "outputId": "51671903-a950-47dd-8adf-fe9268aa193d"
      },
      "source": [
        "## Numeric based indexing usually makes sense for row subsetting \n",
        "ipl.iloc[50:53,1:5]"
      ],
      "execution_count": 164,
      "outputs": [
        {
          "output_type": "execute_result",
          "data": {
            "text/html": [
              "<div>\n",
              "<style scoped>\n",
              "    .dataframe tbody tr th:only-of-type {\n",
              "        vertical-align: middle;\n",
              "    }\n",
              "\n",
              "    .dataframe tbody tr th {\n",
              "        vertical-align: top;\n",
              "    }\n",
              "\n",
              "    .dataframe thead th {\n",
              "        text-align: right;\n",
              "    }\n",
              "</style>\n",
              "<table border=\"1\" class=\"dataframe\">\n",
              "  <thead>\n",
              "    <tr style=\"text-align: right;\">\n",
              "      <th></th>\n",
              "      <th>season</th>\n",
              "      <th>city</th>\n",
              "      <th>date</th>\n",
              "      <th>team1_id</th>\n",
              "    </tr>\n",
              "  </thead>\n",
              "  <tbody>\n",
              "    <tr>\n",
              "      <th>50</th>\n",
              "      <td>2008</td>\n",
              "      <td>Chennai</td>\n",
              "      <td>24-05-2008</td>\n",
              "      <td>RR</td>\n",
              "    </tr>\n",
              "    <tr>\n",
              "      <th>51</th>\n",
              "      <td>2008</td>\n",
              "      <td>Bangalore</td>\n",
              "      <td>03-05-2008</td>\n",
              "      <td>RCB</td>\n",
              "    </tr>\n",
              "    <tr>\n",
              "      <th>52</th>\n",
              "      <td>2008</td>\n",
              "      <td>Kolkata</td>\n",
              "      <td>25-05-2008</td>\n",
              "      <td>KXI</td>\n",
              "    </tr>\n",
              "  </tbody>\n",
              "</table>\n",
              "</div>"
            ],
            "text/plain": [
              "    season       city        date team1_id\n",
              "50    2008    Chennai  24-05-2008       RR\n",
              "51    2008  Bangalore  03-05-2008      RCB\n",
              "52    2008    Kolkata  25-05-2008      KXI"
            ]
          },
          "metadata": {
            "tags": []
          },
          "execution_count": 164
        }
      ]
    },
    {
      "cell_type": "markdown",
      "metadata": {
        "id": "hpv-LWgvWQaQ",
        "colab_type": "text"
      },
      "source": [
        "## **Boolean indexing (to subset based on value in each cell of the column )**\n",
        "**Here we subsetting the data where the cell value in \"City\" column is equal to \"Hyderabad\"**"
      ]
    },
    {
      "cell_type": "code",
      "metadata": {
        "id": "w-E-haB7WQaR",
        "colab_type": "code",
        "colab": {
          "base_uri": "https://localhost:8080/",
          "height": 320
        },
        "outputId": "eb31354e-7771-4d05-e317-e76ad02ae262"
      },
      "source": [
        "subset3 = ipl.loc[ipl['city']=='Hyderabad',:]\n",
        "subset3.head(3)"
      ],
      "execution_count": 165,
      "outputs": [
        {
          "output_type": "execute_result",
          "data": {
            "text/html": [
              "<div>\n",
              "<style scoped>\n",
              "    .dataframe tbody tr th:only-of-type {\n",
              "        vertical-align: middle;\n",
              "    }\n",
              "\n",
              "    .dataframe tbody tr th {\n",
              "        vertical-align: top;\n",
              "    }\n",
              "\n",
              "    .dataframe thead th {\n",
              "        text-align: right;\n",
              "    }\n",
              "</style>\n",
              "<table border=\"1\" class=\"dataframe\">\n",
              "  <thead>\n",
              "    <tr style=\"text-align: right;\">\n",
              "      <th></th>\n",
              "      <th>match_id</th>\n",
              "      <th>season</th>\n",
              "      <th>city</th>\n",
              "      <th>date</th>\n",
              "      <th>team1_id</th>\n",
              "      <th>team2_id</th>\n",
              "      <th>toss_winner</th>\n",
              "      <th>toss_decision</th>\n",
              "      <th>result</th>\n",
              "      <th>dl_applied</th>\n",
              "      <th>winner</th>\n",
              "      <th>win_by_runs</th>\n",
              "      <th>win_by_wickets</th>\n",
              "      <th>player_of_match</th>\n",
              "      <th>player_of_match_id</th>\n",
              "      <th>venue</th>\n",
              "      <th>venue_id</th>\n",
              "      <th>umpire1</th>\n",
              "      <th>umpire2</th>\n",
              "    </tr>\n",
              "  </thead>\n",
              "  <tbody>\n",
              "    <tr>\n",
              "      <th>6</th>\n",
              "      <td>2008_7</td>\n",
              "      <td>2008</td>\n",
              "      <td>Hyderabad</td>\n",
              "      <td>22-04-2008</td>\n",
              "      <td>DC</td>\n",
              "      <td>DD</td>\n",
              "      <td>DC</td>\n",
              "      <td>bat</td>\n",
              "      <td>normal</td>\n",
              "      <td>0</td>\n",
              "      <td>DD</td>\n",
              "      <td>0</td>\n",
              "      <td>9</td>\n",
              "      <td>Virender Sehwag</td>\n",
              "      <td>46.0</td>\n",
              "      <td>Rajiv Gandhi International Stadium, Hyderabad</td>\n",
              "      <td>4</td>\n",
              "      <td>IL Howell</td>\n",
              "      <td>AM Saheba</td>\n",
              "    </tr>\n",
              "    <tr>\n",
              "      <th>8</th>\n",
              "      <td>2008_9</td>\n",
              "      <td>2008</td>\n",
              "      <td>Hyderabad</td>\n",
              "      <td>24-04-2008</td>\n",
              "      <td>DC</td>\n",
              "      <td>RR</td>\n",
              "      <td>RR</td>\n",
              "      <td>field</td>\n",
              "      <td>normal</td>\n",
              "      <td>0</td>\n",
              "      <td>RR</td>\n",
              "      <td>0</td>\n",
              "      <td>3</td>\n",
              "      <td>Yusuf Pathan</td>\n",
              "      <td>171.0</td>\n",
              "      <td>Rajiv Gandhi International Stadium, Hyderabad</td>\n",
              "      <td>4</td>\n",
              "      <td>Asad Rauf</td>\n",
              "      <td>MR Benson</td>\n",
              "    </tr>\n",
              "    <tr>\n",
              "      <th>17</th>\n",
              "      <td>2008_18</td>\n",
              "      <td>2008</td>\n",
              "      <td>Hyderabad</td>\n",
              "      <td>01-05-2008</td>\n",
              "      <td>DC</td>\n",
              "      <td>KXI</td>\n",
              "      <td>KXI</td>\n",
              "      <td>field</td>\n",
              "      <td>normal</td>\n",
              "      <td>0</td>\n",
              "      <td>KXI</td>\n",
              "      <td>0</td>\n",
              "      <td>7</td>\n",
              "      <td>Shaun Marsh</td>\n",
              "      <td>106.0</td>\n",
              "      <td>Rajiv Gandhi International Stadium, Hyderabad</td>\n",
              "      <td>4</td>\n",
              "      <td>BR Doctrove</td>\n",
              "      <td>RB Tiffin</td>\n",
              "    </tr>\n",
              "  </tbody>\n",
              "</table>\n",
              "</div>"
            ],
            "text/plain": [
              "   match_id  season       city  ... venue_id      umpire1    umpire2\n",
              "6    2008_7    2008  Hyderabad  ...        4    IL Howell  AM Saheba\n",
              "8    2008_9    2008  Hyderabad  ...        4    Asad Rauf  MR Benson\n",
              "17  2008_18    2008  Hyderabad  ...        4  BR Doctrove  RB Tiffin\n",
              "\n",
              "[3 rows x 19 columns]"
            ]
          },
          "metadata": {
            "tags": []
          },
          "execution_count": 165
        }
      ]
    },
    {
      "cell_type": "markdown",
      "metadata": {
        "id": "gWvG5UZlWQaV",
        "colab_type": "text"
      },
      "source": [
        "## **Piping of functions (for multiple criteria subsetting)**"
      ]
    },
    {
      "cell_type": "markdown",
      "metadata": {
        "id": "YqhvAB2VWQaV",
        "colab_type": "text"
      },
      "source": [
        "**Basically output of first function is taken as input for the next function**\n",
        "#### **Note - We are using a relational operator inside the first function to get a boolean vector (equal to the number of rows we have). Where the value will be True only if the \"city\" column is \"Hyderabad\"**"
      ]
    },
    {
      "cell_type": "code",
      "metadata": {
        "id": "_JIJ4WpHWQaX",
        "colab_type": "code",
        "colab": {
          "base_uri": "https://localhost:8080/",
          "height": 143
        },
        "outputId": "ee7ce585-1582-481a-8b93-54f154d90266"
      },
      "source": [
        "subset4 = ipl.loc[ipl['city']=='Chennai',:].loc[ipl['winner']=='CSK',:].loc[:,['team1_id','team2_id','winner','city']]\n",
        "\n",
        "## This line achieves the same purpose as above\n",
        "# subset4 = ipl.loc[(ipl['city']=='Chennai') & (ipl['winner']=='CSK'),:].loc[:,['team1_id','team2_id','winner','city']]\n",
        "\n",
        "subset4.head(3)"
      ],
      "execution_count": 166,
      "outputs": [
        {
          "output_type": "execute_result",
          "data": {
            "text/html": [
              "<div>\n",
              "<style scoped>\n",
              "    .dataframe tbody tr th:only-of-type {\n",
              "        vertical-align: middle;\n",
              "    }\n",
              "\n",
              "    .dataframe tbody tr th {\n",
              "        vertical-align: top;\n",
              "    }\n",
              "\n",
              "    .dataframe thead th {\n",
              "        text-align: right;\n",
              "    }\n",
              "</style>\n",
              "<table border=\"1\" class=\"dataframe\">\n",
              "  <thead>\n",
              "    <tr style=\"text-align: right;\">\n",
              "      <th></th>\n",
              "      <th>team1_id</th>\n",
              "      <th>team2_id</th>\n",
              "      <th>winner</th>\n",
              "      <th>city</th>\n",
              "    </tr>\n",
              "  </thead>\n",
              "  <tbody>\n",
              "    <tr>\n",
              "      <th>7</th>\n",
              "      <td>CSK</td>\n",
              "      <td>MI</td>\n",
              "      <td>CSK</td>\n",
              "      <td>Chennai</td>\n",
              "    </tr>\n",
              "    <tr>\n",
              "      <th>11</th>\n",
              "      <td>KKR</td>\n",
              "      <td>CSK</td>\n",
              "      <td>CSK</td>\n",
              "      <td>Chennai</td>\n",
              "    </tr>\n",
              "    <tr>\n",
              "      <th>31</th>\n",
              "      <td>CSK</td>\n",
              "      <td>KXI</td>\n",
              "      <td>CSK</td>\n",
              "      <td>Chennai</td>\n",
              "    </tr>\n",
              "  </tbody>\n",
              "</table>\n",
              "</div>"
            ],
            "text/plain": [
              "   team1_id team2_id winner     city\n",
              "7       CSK       MI    CSK  Chennai\n",
              "11      KKR      CSK    CSK  Chennai\n",
              "31      CSK      KXI    CSK  Chennai"
            ]
          },
          "metadata": {
            "tags": []
          },
          "execution_count": 166
        }
      ]
    },
    {
      "cell_type": "markdown",
      "metadata": {
        "id": "rCEPC40QWQab",
        "colab_type": "text"
      },
      "source": [
        "### **Note**\n",
        "1. In the first command we have used 3 subsetting logics in a single line\n",
        "2. This can be alternatively done by chaining conditions using logical operations (&)\n",
        "3. **You may realize that sometimes giving single indexer (either row or column) works. However it may not be a consistent behaviour and its a good programming practive to specify both the indexers explicitly (row and column) as it makes the code more readable later on.**"
      ]
    },
    {
      "cell_type": "markdown",
      "metadata": {
        "id": "AWsx4X10WQab",
        "colab_type": "text"
      },
      "source": [
        "## **Replace specific values**"
      ]
    },
    {
      "cell_type": "code",
      "metadata": {
        "id": "6sBcgjjLWQad",
        "colab_type": "code",
        "colab": {
          "base_uri": "https://localhost:8080/",
          "height": 260
        },
        "outputId": "81bf2743-5000-4f7a-89b2-14b444d35976"
      },
      "source": [
        "ipl['winner'].value_counts()"
      ],
      "execution_count": 167,
      "outputs": [
        {
          "output_type": "execute_result",
          "data": {
            "text/plain": [
              "MI     80\n",
              "CSK    79\n",
              "RCB    70\n",
              "KKR    68\n",
              "RR     63\n",
              "KXI    63\n",
              "DD     56\n",
              "SRH    34\n",
              "DC     29\n",
              "PW     12\n",
              "GL      9\n",
              "KTK     6\n",
              "RPS     5\n",
              "Name: winner, dtype: int64"
            ]
          },
          "metadata": {
            "tags": []
          },
          "execution_count": 167
        }
      ]
    },
    {
      "cell_type": "code",
      "metadata": {
        "id": "EQ15wyqFWQaf",
        "colab_type": "code",
        "colab": {
          "base_uri": "https://localhost:8080/",
          "height": 243
        },
        "outputId": "19c1ac7c-c18c-43d7-b04e-32864a206b8f"
      },
      "source": [
        "# Lets replace DC with SRH\n",
        "ipl_updated=ipl_final.replace({'DC':'SRH'}, inplace=False)\n",
        "\n",
        "ipl_updated['winner'].value_counts()"
      ],
      "execution_count": 168,
      "outputs": [
        {
          "output_type": "execute_result",
          "data": {
            "text/plain": [
              "MI     91\n",
              "CSK    79\n",
              "KKR    75\n",
              "RCB    73\n",
              "SRH    71\n",
              "KXI    70\n",
              "RR     63\n",
              "DD     62\n",
              "RPS    15\n",
              "GL     13\n",
              "PW     12\n",
              "KTK     6\n",
              "Name: winner, dtype: int64"
            ]
          },
          "metadata": {
            "tags": []
          },
          "execution_count": 168
        }
      ]
    },
    {
      "cell_type": "markdown",
      "metadata": {
        "collapsed": true,
        "id": "qFZR8cCpWQaj",
        "colab_type": "text"
      },
      "source": [
        "## **Activity**\n",
        "**What matches are played on 2008-04-20 and who is the winner?**"
      ]
    },
    {
      "cell_type": "code",
      "metadata": {
        "id": "NvIrXCwBWQak",
        "colab_type": "code",
        "colab": {
          "base_uri": "https://localhost:8080/",
          "height": 112
        },
        "outputId": "b0f430d9-e7d4-491e-b74d-c6514a896d6a"
      },
      "source": [
        "ipl.loc[ipl['date']=='20-04-2008',:].loc[:,['winner']]"
      ],
      "execution_count": 169,
      "outputs": [
        {
          "output_type": "execute_result",
          "data": {
            "text/html": [
              "<div>\n",
              "<style scoped>\n",
              "    .dataframe tbody tr th:only-of-type {\n",
              "        vertical-align: middle;\n",
              "    }\n",
              "\n",
              "    .dataframe tbody tr th {\n",
              "        vertical-align: top;\n",
              "    }\n",
              "\n",
              "    .dataframe thead th {\n",
              "        text-align: right;\n",
              "    }\n",
              "</style>\n",
              "<table border=\"1\" class=\"dataframe\">\n",
              "  <thead>\n",
              "    <tr style=\"text-align: right;\">\n",
              "      <th></th>\n",
              "      <th>winner</th>\n",
              "    </tr>\n",
              "  </thead>\n",
              "  <tbody>\n",
              "    <tr>\n",
              "      <th>3</th>\n",
              "      <td>RCB</td>\n",
              "    </tr>\n",
              "    <tr>\n",
              "      <th>4</th>\n",
              "      <td>KKR</td>\n",
              "    </tr>\n",
              "  </tbody>\n",
              "</table>\n",
              "</div>"
            ],
            "text/plain": [
              "  winner\n",
              "3    RCB\n",
              "4    KKR"
            ]
          },
          "metadata": {
            "tags": []
          },
          "execution_count": 169
        }
      ]
    },
    {
      "cell_type": "markdown",
      "metadata": {
        "id": "Ls_n0JoCWQao",
        "colab_type": "text"
      },
      "source": [
        "---\n",
        "## *<center>End</center>*"
      ]
    }
  ]
}