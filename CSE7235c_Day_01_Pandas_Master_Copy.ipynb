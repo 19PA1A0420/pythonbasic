{
  "nbformat": 4,
  "nbformat_minor": 0,
  "metadata": {
    "kernelspec": {
      "display_name": "Python 3",
      "language": "python",
      "name": "python3"
    },
    "language_info": {
      "codemirror_mode": {
        "name": "ipython",
        "version": 3
      },
      "file_extension": ".py",
      "mimetype": "text/x-python",
      "name": "python",
      "nbconvert_exporter": "python",
      "pygments_lexer": "ipython3",
      "version": "3.6.4"
    },
    "varInspector": {
      "cols": {
        "lenName": 16,
        "lenType": 16,
        "lenVar": 40
      },
      "kernels_config": {
        "python": {
          "delete_cmd_postfix": "",
          "delete_cmd_prefix": "del ",
          "library": "var_list.py",
          "varRefreshCmd": "print(var_dic_list())"
        },
        "r": {
          "delete_cmd_postfix": ") ",
          "delete_cmd_prefix": "rm(",
          "library": "var_list.r",
          "varRefreshCmd": "cat(var_dic_list()) "
        }
      },
      "types_to_exclude": [
        "module",
        "function",
        "builtin_function_or_method",
        "instance",
        "_Feature"
      ],
      "window_display": false
    },
    "colab": {
      "name": "CSE7235c_Day_01_Pandas_Master_Copy.ipynb",
      "provenance": [],
      "include_colab_link": true
    }
  },
  "cells": [
    {
      "cell_type": "markdown",
      "metadata": {
        "id": "view-in-github",
        "colab_type": "text"
      },
      "source": [
        "<a href=\"https://colab.research.google.com/github/19PA1A0420/pythonbasic/blob/master/CSE7235c_Day_01_Pandas_Master_Copy.ipynb\" target=\"_parent\"><img src=\"https://colab.research.google.com/assets/colab-badge.svg\" alt=\"Open In Colab\"/></a>"
      ]
    },
    {
      "cell_type": "markdown",
      "metadata": {
        "id": "IIn04F6_WQYi",
        "colab_type": "text"
      },
      "source": [
        "# <center>**Pandas Introduction**</center>\n",
        "---\n",
        "\n",
        "<br>\n"
      ]
    },
    {
      "cell_type": "markdown",
      "metadata": {
        "collapsed": true,
        "id": "m_0-stVfWQYn",
        "colab_type": "text"
      },
      "source": [
        "## **Pandas DataFrame**\n"
      ]
    },
    {
      "cell_type": "code",
      "metadata": {
        "id": "JnLbHZaLWQYq",
        "colab_type": "code",
        "colab": {}
      },
      "source": [
        "# import pandas\n",
        "import pandas as pd"
      ],
      "execution_count": 0,
      "outputs": []
    },
    {
      "cell_type": "markdown",
      "metadata": {
        "id": "sXtOQLv7WQY1",
        "colab_type": "text"
      },
      "source": [
        "## **Reading data**"
      ]
    },
    {
      "cell_type": "code",
      "metadata": {
        "id": "QdBNiuS-WQY2",
        "colab_type": "code",
        "colab": {}
      },
      "source": [
        "# Read data from csv file\n",
        "ipl = pd.read_csv('matches2008-2016.csv')\n",
        "ipl_new = pd.read_csv('matches2017.csv')"
      ],
      "execution_count": 0,
      "outputs": []
    },
    {
      "cell_type": "code",
      "metadata": {
        "id": "JHBqy77LWQY8",
        "colab_type": "code",
        "colab": {
          "base_uri": "https://localhost:8080/",
          "height": 260
        },
        "outputId": "51c4e581-0602-411f-b4fd-7331a311ad71"
      },
      "source": [
        "print(ipl)"
      ],
      "execution_count": 4,
      "outputs": [
        {
          "output_type": "stream",
          "text": [
            "    match_id  season        city  ... venue_id          umpire1          umpire2\n",
            "0     2008_1    2008   Bangalore  ...        7        Asad Rauf      RE Koertzen\n",
            "1     2008_2    2008  Chandigarh  ...        9        MR Benson       SL Shastri\n",
            "2     2008_3    2008       Delhi  ...        2        Aleem Dar   GA Pratapkumar\n",
            "3     2008_4    2008      Mumbai  ...        1         SJ Davis        DJ Harper\n",
            "4     2008_5    2008     Kolkata  ...        3        BF Bowden      K Hariharan\n",
            "..       ...     ...         ...  ...      ...              ...              ...\n",
            "572  2016_56    2016      Raipur  ...       27   A Nand Kishore     BNJ Oxenford\n",
            "573  2016_57    2016   Bangalore  ...        7     AK Chaudhary  HDPK Dharmasena\n",
            "574  2016_58    2016       Delhi  ...        2        M Erasmus    C Shamshuddin\n",
            "575  2016_59    2016       Delhi  ...        2        M Erasmus        CK Nandan\n",
            "576  2016_60    2016   Bangalore  ...        7  HDPK Dharmasena     BNJ Oxenford\n",
            "\n",
            "[577 rows x 19 columns]\n"
          ],
          "name": "stdout"
        }
      ]
    },
    {
      "cell_type": "markdown",
      "metadata": {
        "id": "J1cS21FxWQZD",
        "colab_type": "text"
      },
      "source": [
        "## **Checking data dimensions**\n",
        "- use the shape method on data frame to get the dimensions"
      ]
    },
    {
      "cell_type": "code",
      "metadata": {
        "id": "emULvkLKWQZF",
        "colab_type": "code",
        "colab": {
          "base_uri": "https://localhost:8080/",
          "height": 52
        },
        "outputId": "ab7c552f-696c-46fb-f634-b053cf0fa29f"
      },
      "source": [
        "print(ipl.shape)\n",
        "print(ipl_new.shape)"
      ],
      "execution_count": 5,
      "outputs": [
        {
          "output_type": "stream",
          "text": [
            "(577, 19)\n",
            "(59, 19)\n"
          ],
          "name": "stdout"
        }
      ]
    },
    {
      "cell_type": "markdown",
      "metadata": {
        "id": "i5rOuR9cWQZL",
        "colab_type": "text"
      },
      "source": [
        "## **Appending DataFrame**\n",
        "- We need to append new matches data to the old data using append method"
      ]
    },
    {
      "cell_type": "code",
      "metadata": {
        "id": "ohOvtA_HWQZM",
        "colab_type": "code",
        "colab": {
          "base_uri": "https://localhost:8080/",
          "height": 260
        },
        "outputId": "0d6277a8-b111-4e19-f4cc-06a7f3b6e751"
      },
      "source": [
        "ipl_final = ipl.copy()             # Explicitly creating a copy of ipl. Just to make sure you don't modify your original data\n",
        "ipl_final = ipl_final.append(ipl_new)\n",
        "print(ipl_final)"
      ],
      "execution_count": 6,
      "outputs": [
        {
          "output_type": "stream",
          "text": [
            "   match_id  season        city  ... venue_id       umpire1         umpire2\n",
            "0    2008_1    2008   Bangalore  ...        7     Asad Rauf     RE Koertzen\n",
            "1    2008_2    2008  Chandigarh  ...        9     MR Benson      SL Shastri\n",
            "2    2008_3    2008       Delhi  ...        2     Aleem Dar  GA Pratapkumar\n",
            "3    2008_4    2008      Mumbai  ...        1      SJ Davis       DJ Harper\n",
            "4    2008_5    2008     Kolkata  ...        3     BF Bowden     K Hariharan\n",
            "..      ...     ...         ...  ...      ...           ...             ...\n",
            "54  2017_55    2017       Delhi  ...        2     CK Nandan   C Shamshuddin\n",
            "55  2017_56    2017      Mumbai  ...        1        S Ravi   C Shamshuddin\n",
            "56  2017_57    2017   Bangalore  ...        7  AK Chaudhary     Nitin Menon\n",
            "57  2017_58    2017   Bangalore  ...        7      NJ Llong     Nitin Menon\n",
            "58  2017_59    2017   Hyderabad  ...        4      NJ Llong          S Ravi\n",
            "\n",
            "[636 rows x 19 columns]\n"
          ],
          "name": "stdout"
        }
      ]
    },
    {
      "cell_type": "markdown",
      "metadata": {
        "id": "LJ7jKGdLWQZR",
        "colab_type": "text"
      },
      "source": [
        "## **Data Inspection**"
      ]
    },
    {
      "cell_type": "code",
      "metadata": {
        "id": "3kjlklVBWQZT",
        "colab_type": "code",
        "colab": {
          "base_uri": "https://localhost:8080/",
          "height": 34
        },
        "outputId": "17abfd20-d91b-491f-ca8e-9f320f46484e"
      },
      "source": [
        "## .shape gives dimentions of Data\n",
        "print(ipl_final.shape)                            # dim() in R - Dimentions of data"
      ],
      "execution_count": 7,
      "outputs": [
        {
          "output_type": "stream",
          "text": [
            "(636, 19)\n"
          ],
          "name": "stdout"
        }
      ]
    },
    {
      "cell_type": "code",
      "metadata": {
        "id": "xzBqcYkOWQZZ",
        "colab_type": "code",
        "colab": {},
        "outputId": "28cdfb42-4f91-4618-eea2-c74e079c2e33"
      },
      "source": [
        "## Getting top 3 rows usig head method\n",
        "ipl_final.head(3)"
      ],
      "execution_count": 0,
      "outputs": [
        {
          "output_type": "execute_result",
          "data": {
            "text/html": [
              "<div>\n",
              "<style scoped>\n",
              "    .dataframe tbody tr th:only-of-type {\n",
              "        vertical-align: middle;\n",
              "    }\n",
              "\n",
              "    .dataframe tbody tr th {\n",
              "        vertical-align: top;\n",
              "    }\n",
              "\n",
              "    .dataframe thead th {\n",
              "        text-align: right;\n",
              "    }\n",
              "</style>\n",
              "<table border=\"1\" class=\"dataframe\">\n",
              "  <thead>\n",
              "    <tr style=\"text-align: right;\">\n",
              "      <th></th>\n",
              "      <th>match_id</th>\n",
              "      <th>season</th>\n",
              "      <th>city</th>\n",
              "      <th>date</th>\n",
              "      <th>team1_id</th>\n",
              "      <th>team2_id</th>\n",
              "      <th>toss_winner</th>\n",
              "      <th>toss_decision</th>\n",
              "      <th>result</th>\n",
              "      <th>dl_applied</th>\n",
              "      <th>winner</th>\n",
              "      <th>win_by_runs</th>\n",
              "      <th>win_by_wickets</th>\n",
              "      <th>player_of_match</th>\n",
              "      <th>player_of_match_id</th>\n",
              "      <th>venue</th>\n",
              "      <th>venue_id</th>\n",
              "      <th>umpire1</th>\n",
              "      <th>umpire2</th>\n",
              "    </tr>\n",
              "  </thead>\n",
              "  <tbody>\n",
              "    <tr>\n",
              "      <th>0</th>\n",
              "      <td>2008_1</td>\n",
              "      <td>2008</td>\n",
              "      <td>Bangalore</td>\n",
              "      <td>18-04-2008</td>\n",
              "      <td>KKR</td>\n",
              "      <td>RCB</td>\n",
              "      <td>RCB</td>\n",
              "      <td>field</td>\n",
              "      <td>normal</td>\n",
              "      <td>0</td>\n",
              "      <td>KKR</td>\n",
              "      <td>140</td>\n",
              "      <td>0</td>\n",
              "      <td>Brendon McCullum</td>\n",
              "      <td>82.0</td>\n",
              "      <td>M.Chinnaswamy Stadium Bengaluru, Karnataka</td>\n",
              "      <td>7</td>\n",
              "      <td>Asad Rauf</td>\n",
              "      <td>RE Koertzen</td>\n",
              "    </tr>\n",
              "    <tr>\n",
              "      <th>1</th>\n",
              "      <td>2008_2</td>\n",
              "      <td>2008</td>\n",
              "      <td>Chandigarh</td>\n",
              "      <td>19-04-2008</td>\n",
              "      <td>CSK</td>\n",
              "      <td>KXI</td>\n",
              "      <td>CSK</td>\n",
              "      <td>bat</td>\n",
              "      <td>normal</td>\n",
              "      <td>0</td>\n",
              "      <td>CSK</td>\n",
              "      <td>33</td>\n",
              "      <td>0</td>\n",
              "      <td>Michael Hussey</td>\n",
              "      <td>18.0</td>\n",
              "      <td>I.S. Bindra Punjab Cricket Association Stadium...</td>\n",
              "      <td>9</td>\n",
              "      <td>MR Benson</td>\n",
              "      <td>SL Shastri</td>\n",
              "    </tr>\n",
              "    <tr>\n",
              "      <th>2</th>\n",
              "      <td>2008_3</td>\n",
              "      <td>2008</td>\n",
              "      <td>Delhi</td>\n",
              "      <td>19-04-2008</td>\n",
              "      <td>RR</td>\n",
              "      <td>DD</td>\n",
              "      <td>RR</td>\n",
              "      <td>bat</td>\n",
              "      <td>normal</td>\n",
              "      <td>0</td>\n",
              "      <td>DD</td>\n",
              "      <td>0</td>\n",
              "      <td>9</td>\n",
              "      <td>Farveez Maharoof</td>\n",
              "      <td>60.0</td>\n",
              "      <td>Feroz Shah Kotla Stadium, Delhi</td>\n",
              "      <td>2</td>\n",
              "      <td>Aleem Dar</td>\n",
              "      <td>GA Pratapkumar</td>\n",
              "    </tr>\n",
              "  </tbody>\n",
              "</table>\n",
              "</div>"
            ],
            "text/plain": [
              "  match_id  season        city        date team1_id team2_id toss_winner  \\\n",
              "0   2008_1    2008   Bangalore  18-04-2008      KKR      RCB         RCB   \n",
              "1   2008_2    2008  Chandigarh  19-04-2008      CSK      KXI         CSK   \n",
              "2   2008_3    2008       Delhi  19-04-2008       RR       DD          RR   \n",
              "\n",
              "  toss_decision  result  dl_applied winner  win_by_runs  win_by_wickets  \\\n",
              "0         field  normal           0    KKR          140               0   \n",
              "1           bat  normal           0    CSK           33               0   \n",
              "2           bat  normal           0     DD            0               9   \n",
              "\n",
              "    player_of_match  player_of_match_id  \\\n",
              "0  Brendon McCullum                82.0   \n",
              "1    Michael Hussey                18.0   \n",
              "2  Farveez Maharoof                60.0   \n",
              "\n",
              "                                               venue  venue_id    umpire1  \\\n",
              "0         M.Chinnaswamy Stadium Bengaluru, Karnataka         7  Asad Rauf   \n",
              "1  I.S. Bindra Punjab Cricket Association Stadium...         9  MR Benson   \n",
              "2                    Feroz Shah Kotla Stadium, Delhi         2  Aleem Dar   \n",
              "\n",
              "          umpire2  \n",
              "0     RE Koertzen  \n",
              "1      SL Shastri  \n",
              "2  GA Pratapkumar  "
            ]
          },
          "metadata": {
            "tags": []
          },
          "execution_count": 6
        }
      ]
    },
    {
      "cell_type": "code",
      "metadata": {
        "id": "N7k8UFnUWQZd",
        "colab_type": "code",
        "colab": {},
        "outputId": "bfbe467c-4ab7-4416-a82b-b6e70cdbec3e"
      },
      "source": [
        "## .columns gives column names\n",
        "print(ipl_final.columns)                          # colnames() in R - Column Namesprint(list(df.index)[:10])"
      ],
      "execution_count": 0,
      "outputs": [
        {
          "output_type": "stream",
          "text": [
            "Index(['match_id', 'season', 'city', 'date', 'team1_id', 'team2_id',\n",
            "       'toss_winner', 'toss_decision', 'result', 'dl_applied', 'winner',\n",
            "       'win_by_runs', 'win_by_wickets', 'player_of_match',\n",
            "       'player_of_match_id', 'venue', 'venue_id', 'umpire1', 'umpire2'],\n",
            "      dtype='object')\n"
          ],
          "name": "stdout"
        }
      ]
    },
    {
      "cell_type": "code",
      "metadata": {
        "id": "_nwHtEPMWQZi",
        "colab_type": "code",
        "colab": {},
        "outputId": "118ca780-f65f-4970-dce1-8cea5093562f"
      },
      "source": [
        "## .dtypes gives data types for each column\n",
        "print(ipl_final.dtypes)                           # str() in R - Data types"
      ],
      "execution_count": 0,
      "outputs": [
        {
          "output_type": "stream",
          "text": [
            "match_id               object\n",
            "season                  int64\n",
            "city                   object\n",
            "date                   object\n",
            "team1_id               object\n",
            "team2_id               object\n",
            "toss_winner            object\n",
            "toss_decision          object\n",
            "result                 object\n",
            "dl_applied              int64\n",
            "winner                 object\n",
            "win_by_runs             int64\n",
            "win_by_wickets          int64\n",
            "player_of_match        object\n",
            "player_of_match_id    float64\n",
            "venue                  object\n",
            "venue_id                int64\n",
            "umpire1                object\n",
            "umpire2                object\n",
            "dtype: object\n"
          ],
          "name": "stdout"
        }
      ]
    },
    {
      "cell_type": "markdown",
      "metadata": {
        "id": "UVom-zpCWQZn",
        "colab_type": "text"
      },
      "source": [
        "<br><br>\n",
        "## **Seting match_id as row index** (rarely used)"
      ]
    },
    {
      "cell_type": "code",
      "metadata": {
        "id": "aM0ShNcaWQZo",
        "colab_type": "code",
        "colab": {},
        "outputId": "e9f34433-f5ad-46ec-e8f6-9981cfed06b4"
      },
      "source": [
        "ipl_final.set_index(['match_id'],inplace=True)\n",
        "ipl_final.head(3)"
      ],
      "execution_count": 0,
      "outputs": [
        {
          "output_type": "execute_result",
          "data": {
            "text/html": [
              "<div>\n",
              "<style scoped>\n",
              "    .dataframe tbody tr th:only-of-type {\n",
              "        vertical-align: middle;\n",
              "    }\n",
              "\n",
              "    .dataframe tbody tr th {\n",
              "        vertical-align: top;\n",
              "    }\n",
              "\n",
              "    .dataframe thead th {\n",
              "        text-align: right;\n",
              "    }\n",
              "</style>\n",
              "<table border=\"1\" class=\"dataframe\">\n",
              "  <thead>\n",
              "    <tr style=\"text-align: right;\">\n",
              "      <th></th>\n",
              "      <th>season</th>\n",
              "      <th>city</th>\n",
              "      <th>date</th>\n",
              "      <th>team1_id</th>\n",
              "      <th>team2_id</th>\n",
              "      <th>toss_winner</th>\n",
              "      <th>toss_decision</th>\n",
              "      <th>result</th>\n",
              "      <th>dl_applied</th>\n",
              "      <th>winner</th>\n",
              "      <th>win_by_runs</th>\n",
              "      <th>win_by_wickets</th>\n",
              "      <th>player_of_match</th>\n",
              "      <th>player_of_match_id</th>\n",
              "      <th>venue</th>\n",
              "      <th>venue_id</th>\n",
              "      <th>umpire1</th>\n",
              "      <th>umpire2</th>\n",
              "    </tr>\n",
              "    <tr>\n",
              "      <th>match_id</th>\n",
              "      <th></th>\n",
              "      <th></th>\n",
              "      <th></th>\n",
              "      <th></th>\n",
              "      <th></th>\n",
              "      <th></th>\n",
              "      <th></th>\n",
              "      <th></th>\n",
              "      <th></th>\n",
              "      <th></th>\n",
              "      <th></th>\n",
              "      <th></th>\n",
              "      <th></th>\n",
              "      <th></th>\n",
              "      <th></th>\n",
              "      <th></th>\n",
              "      <th></th>\n",
              "      <th></th>\n",
              "    </tr>\n",
              "  </thead>\n",
              "  <tbody>\n",
              "    <tr>\n",
              "      <th>2008_1</th>\n",
              "      <td>2008</td>\n",
              "      <td>Bangalore</td>\n",
              "      <td>18-04-2008</td>\n",
              "      <td>KKR</td>\n",
              "      <td>RCB</td>\n",
              "      <td>RCB</td>\n",
              "      <td>field</td>\n",
              "      <td>normal</td>\n",
              "      <td>0</td>\n",
              "      <td>KKR</td>\n",
              "      <td>140</td>\n",
              "      <td>0</td>\n",
              "      <td>Brendon McCullum</td>\n",
              "      <td>82.0</td>\n",
              "      <td>M.Chinnaswamy Stadium Bengaluru, Karnataka</td>\n",
              "      <td>7</td>\n",
              "      <td>Asad Rauf</td>\n",
              "      <td>RE Koertzen</td>\n",
              "    </tr>\n",
              "    <tr>\n",
              "      <th>2008_2</th>\n",
              "      <td>2008</td>\n",
              "      <td>Chandigarh</td>\n",
              "      <td>19-04-2008</td>\n",
              "      <td>CSK</td>\n",
              "      <td>KXI</td>\n",
              "      <td>CSK</td>\n",
              "      <td>bat</td>\n",
              "      <td>normal</td>\n",
              "      <td>0</td>\n",
              "      <td>CSK</td>\n",
              "      <td>33</td>\n",
              "      <td>0</td>\n",
              "      <td>Michael Hussey</td>\n",
              "      <td>18.0</td>\n",
              "      <td>I.S. Bindra Punjab Cricket Association Stadium...</td>\n",
              "      <td>9</td>\n",
              "      <td>MR Benson</td>\n",
              "      <td>SL Shastri</td>\n",
              "    </tr>\n",
              "    <tr>\n",
              "      <th>2008_3</th>\n",
              "      <td>2008</td>\n",
              "      <td>Delhi</td>\n",
              "      <td>19-04-2008</td>\n",
              "      <td>RR</td>\n",
              "      <td>DD</td>\n",
              "      <td>RR</td>\n",
              "      <td>bat</td>\n",
              "      <td>normal</td>\n",
              "      <td>0</td>\n",
              "      <td>DD</td>\n",
              "      <td>0</td>\n",
              "      <td>9</td>\n",
              "      <td>Farveez Maharoof</td>\n",
              "      <td>60.0</td>\n",
              "      <td>Feroz Shah Kotla Stadium, Delhi</td>\n",
              "      <td>2</td>\n",
              "      <td>Aleem Dar</td>\n",
              "      <td>GA Pratapkumar</td>\n",
              "    </tr>\n",
              "  </tbody>\n",
              "</table>\n",
              "</div>"
            ],
            "text/plain": [
              "          season        city        date team1_id team2_id toss_winner  \\\n",
              "match_id                                                                 \n",
              "2008_1      2008   Bangalore  18-04-2008      KKR      RCB         RCB   \n",
              "2008_2      2008  Chandigarh  19-04-2008      CSK      KXI         CSK   \n",
              "2008_3      2008       Delhi  19-04-2008       RR       DD          RR   \n",
              "\n",
              "         toss_decision  result  dl_applied winner  win_by_runs  \\\n",
              "match_id                                                         \n",
              "2008_1           field  normal           0    KKR          140   \n",
              "2008_2             bat  normal           0    CSK           33   \n",
              "2008_3             bat  normal           0     DD            0   \n",
              "\n",
              "          win_by_wickets   player_of_match  player_of_match_id  \\\n",
              "match_id                                                         \n",
              "2008_1                 0  Brendon McCullum                82.0   \n",
              "2008_2                 0    Michael Hussey                18.0   \n",
              "2008_3                 9  Farveez Maharoof                60.0   \n",
              "\n",
              "                                                      venue  venue_id  \\\n",
              "match_id                                                                \n",
              "2008_1           M.Chinnaswamy Stadium Bengaluru, Karnataka         7   \n",
              "2008_2    I.S. Bindra Punjab Cricket Association Stadium...         9   \n",
              "2008_3                      Feroz Shah Kotla Stadium, Delhi         2   \n",
              "\n",
              "            umpire1         umpire2  \n",
              "match_id                             \n",
              "2008_1    Asad Rauf     RE Koertzen  \n",
              "2008_2    MR Benson      SL Shastri  \n",
              "2008_3    Aleem Dar  GA Pratapkumar  "
            ]
          },
          "metadata": {
            "tags": []
          },
          "execution_count": 9
        }
      ]
    },
    {
      "cell_type": "markdown",
      "metadata": {
        "id": "9IW31o-mWQZt",
        "colab_type": "text"
      },
      "source": [
        "## **Summary statistics**\n",
        "- using the describe method"
      ]
    },
    {
      "cell_type": "code",
      "metadata": {
        "id": "pbLnXLw3WQZu",
        "colab_type": "code",
        "colab": {},
        "outputId": "8abbf3a1-5240-45bb-8ff0-8c3fbcf73fa1"
      },
      "source": [
        "ipl.describe()"
      ],
      "execution_count": 0,
      "outputs": [
        {
          "output_type": "execute_result",
          "data": {
            "text/html": [
              "<div>\n",
              "<style scoped>\n",
              "    .dataframe tbody tr th:only-of-type {\n",
              "        vertical-align: middle;\n",
              "    }\n",
              "\n",
              "    .dataframe tbody tr th {\n",
              "        vertical-align: top;\n",
              "    }\n",
              "\n",
              "    .dataframe thead th {\n",
              "        text-align: right;\n",
              "    }\n",
              "</style>\n",
              "<table border=\"1\" class=\"dataframe\">\n",
              "  <thead>\n",
              "    <tr style=\"text-align: right;\">\n",
              "      <th></th>\n",
              "      <th>season</th>\n",
              "      <th>dl_applied</th>\n",
              "      <th>win_by_runs</th>\n",
              "      <th>win_by_wickets</th>\n",
              "      <th>player_of_match_id</th>\n",
              "      <th>venue_id</th>\n",
              "    </tr>\n",
              "  </thead>\n",
              "  <tbody>\n",
              "    <tr>\n",
              "      <th>count</th>\n",
              "      <td>577.000000</td>\n",
              "      <td>577.000000</td>\n",
              "      <td>577.000000</td>\n",
              "      <td>577.000000</td>\n",
              "      <td>574.000000</td>\n",
              "      <td>577.000000</td>\n",
              "    </tr>\n",
              "    <tr>\n",
              "      <th>mean</th>\n",
              "      <td>2012.029463</td>\n",
              "      <td>0.025997</td>\n",
              "      <td>13.715771</td>\n",
              "      <td>3.363951</td>\n",
              "      <td>187.937282</td>\n",
              "      <td>10.097054</td>\n",
              "    </tr>\n",
              "    <tr>\n",
              "      <th>std</th>\n",
              "      <td>2.486247</td>\n",
              "      <td>0.159263</td>\n",
              "      <td>23.619282</td>\n",
              "      <td>3.416049</td>\n",
              "      <td>163.146706</td>\n",
              "      <td>9.048535</td>\n",
              "    </tr>\n",
              "    <tr>\n",
              "      <th>min</th>\n",
              "      <td>2008.000000</td>\n",
              "      <td>0.000000</td>\n",
              "      <td>0.000000</td>\n",
              "      <td>0.000000</td>\n",
              "      <td>1.000000</td>\n",
              "      <td>1.000000</td>\n",
              "    </tr>\n",
              "    <tr>\n",
              "      <th>25%</th>\n",
              "      <td>2010.000000</td>\n",
              "      <td>0.000000</td>\n",
              "      <td>0.000000</td>\n",
              "      <td>0.000000</td>\n",
              "      <td>59.250000</td>\n",
              "      <td>3.000000</td>\n",
              "    </tr>\n",
              "    <tr>\n",
              "      <th>50%</th>\n",
              "      <td>2012.000000</td>\n",
              "      <td>0.000000</td>\n",
              "      <td>0.000000</td>\n",
              "      <td>3.000000</td>\n",
              "      <td>146.500000</td>\n",
              "      <td>7.000000</td>\n",
              "    </tr>\n",
              "    <tr>\n",
              "      <th>75%</th>\n",
              "      <td>2014.000000</td>\n",
              "      <td>0.000000</td>\n",
              "      <td>20.000000</td>\n",
              "      <td>6.000000</td>\n",
              "      <td>279.250000</td>\n",
              "      <td>14.000000</td>\n",
              "    </tr>\n",
              "    <tr>\n",
              "      <th>max</th>\n",
              "      <td>2016.000000</td>\n",
              "      <td>1.000000</td>\n",
              "      <td>144.000000</td>\n",
              "      <td>10.000000</td>\n",
              "      <td>691.000000</td>\n",
              "      <td>34.000000</td>\n",
              "    </tr>\n",
              "  </tbody>\n",
              "</table>\n",
              "</div>"
            ],
            "text/plain": [
              "            season  dl_applied  win_by_runs  win_by_wickets  \\\n",
              "count   577.000000  577.000000   577.000000      577.000000   \n",
              "mean   2012.029463    0.025997    13.715771        3.363951   \n",
              "std       2.486247    0.159263    23.619282        3.416049   \n",
              "min    2008.000000    0.000000     0.000000        0.000000   \n",
              "25%    2010.000000    0.000000     0.000000        0.000000   \n",
              "50%    2012.000000    0.000000     0.000000        3.000000   \n",
              "75%    2014.000000    0.000000    20.000000        6.000000   \n",
              "max    2016.000000    1.000000   144.000000       10.000000   \n",
              "\n",
              "       player_of_match_id    venue_id  \n",
              "count          574.000000  577.000000  \n",
              "mean           187.937282   10.097054  \n",
              "std            163.146706    9.048535  \n",
              "min              1.000000    1.000000  \n",
              "25%             59.250000    3.000000  \n",
              "50%            146.500000    7.000000  \n",
              "75%            279.250000   14.000000  \n",
              "max            691.000000   34.000000  "
            ]
          },
          "metadata": {
            "tags": []
          },
          "execution_count": 10
        }
      ]
    },
    {
      "cell_type": "markdown",
      "metadata": {
        "id": "Z74dA2SWWQZz",
        "colab_type": "text"
      },
      "source": [
        "## **Dropping columns**\n",
        "- using the drop method"
      ]
    },
    {
      "cell_type": "code",
      "metadata": {
        "id": "oCFPwi5jWQZz",
        "colab_type": "code",
        "colab": {},
        "outputId": "0675ea62-2c1d-448c-da2d-58432ac33a14"
      },
      "source": [
        "# Dropping Column\n",
        "ipl_final.drop(['venue_id'], axis=1, inplace=True)    # Axis = 1 for columns\n",
        "\n",
        "ipl.head(3)"
      ],
      "execution_count": 0,
      "outputs": [
        {
          "output_type": "execute_result",
          "data": {
            "text/html": [
              "<div>\n",
              "<style scoped>\n",
              "    .dataframe tbody tr th:only-of-type {\n",
              "        vertical-align: middle;\n",
              "    }\n",
              "\n",
              "    .dataframe tbody tr th {\n",
              "        vertical-align: top;\n",
              "    }\n",
              "\n",
              "    .dataframe thead th {\n",
              "        text-align: right;\n",
              "    }\n",
              "</style>\n",
              "<table border=\"1\" class=\"dataframe\">\n",
              "  <thead>\n",
              "    <tr style=\"text-align: right;\">\n",
              "      <th></th>\n",
              "      <th>match_id</th>\n",
              "      <th>season</th>\n",
              "      <th>city</th>\n",
              "      <th>date</th>\n",
              "      <th>team1_id</th>\n",
              "      <th>team2_id</th>\n",
              "      <th>toss_winner</th>\n",
              "      <th>toss_decision</th>\n",
              "      <th>result</th>\n",
              "      <th>dl_applied</th>\n",
              "      <th>winner</th>\n",
              "      <th>win_by_runs</th>\n",
              "      <th>win_by_wickets</th>\n",
              "      <th>player_of_match</th>\n",
              "      <th>player_of_match_id</th>\n",
              "      <th>venue</th>\n",
              "      <th>venue_id</th>\n",
              "      <th>umpire1</th>\n",
              "      <th>umpire2</th>\n",
              "    </tr>\n",
              "  </thead>\n",
              "  <tbody>\n",
              "    <tr>\n",
              "      <th>0</th>\n",
              "      <td>2008_1</td>\n",
              "      <td>2008</td>\n",
              "      <td>Bangalore</td>\n",
              "      <td>18-04-2008</td>\n",
              "      <td>KKR</td>\n",
              "      <td>RCB</td>\n",
              "      <td>RCB</td>\n",
              "      <td>field</td>\n",
              "      <td>normal</td>\n",
              "      <td>0</td>\n",
              "      <td>KKR</td>\n",
              "      <td>140</td>\n",
              "      <td>0</td>\n",
              "      <td>Brendon McCullum</td>\n",
              "      <td>82.0</td>\n",
              "      <td>M.Chinnaswamy Stadium Bengaluru, Karnataka</td>\n",
              "      <td>7</td>\n",
              "      <td>Asad Rauf</td>\n",
              "      <td>RE Koertzen</td>\n",
              "    </tr>\n",
              "    <tr>\n",
              "      <th>1</th>\n",
              "      <td>2008_2</td>\n",
              "      <td>2008</td>\n",
              "      <td>Chandigarh</td>\n",
              "      <td>19-04-2008</td>\n",
              "      <td>CSK</td>\n",
              "      <td>KXI</td>\n",
              "      <td>CSK</td>\n",
              "      <td>bat</td>\n",
              "      <td>normal</td>\n",
              "      <td>0</td>\n",
              "      <td>CSK</td>\n",
              "      <td>33</td>\n",
              "      <td>0</td>\n",
              "      <td>Michael Hussey</td>\n",
              "      <td>18.0</td>\n",
              "      <td>I.S. Bindra Punjab Cricket Association Stadium...</td>\n",
              "      <td>9</td>\n",
              "      <td>MR Benson</td>\n",
              "      <td>SL Shastri</td>\n",
              "    </tr>\n",
              "    <tr>\n",
              "      <th>2</th>\n",
              "      <td>2008_3</td>\n",
              "      <td>2008</td>\n",
              "      <td>Delhi</td>\n",
              "      <td>19-04-2008</td>\n",
              "      <td>RR</td>\n",
              "      <td>DD</td>\n",
              "      <td>RR</td>\n",
              "      <td>bat</td>\n",
              "      <td>normal</td>\n",
              "      <td>0</td>\n",
              "      <td>DD</td>\n",
              "      <td>0</td>\n",
              "      <td>9</td>\n",
              "      <td>Farveez Maharoof</td>\n",
              "      <td>60.0</td>\n",
              "      <td>Feroz Shah Kotla Stadium, Delhi</td>\n",
              "      <td>2</td>\n",
              "      <td>Aleem Dar</td>\n",
              "      <td>GA Pratapkumar</td>\n",
              "    </tr>\n",
              "  </tbody>\n",
              "</table>\n",
              "</div>"
            ],
            "text/plain": [
              "  match_id  season        city        date team1_id team2_id toss_winner  \\\n",
              "0   2008_1    2008   Bangalore  18-04-2008      KKR      RCB         RCB   \n",
              "1   2008_2    2008  Chandigarh  19-04-2008      CSK      KXI         CSK   \n",
              "2   2008_3    2008       Delhi  19-04-2008       RR       DD          RR   \n",
              "\n",
              "  toss_decision  result  dl_applied winner  win_by_runs  win_by_wickets  \\\n",
              "0         field  normal           0    KKR          140               0   \n",
              "1           bat  normal           0    CSK           33               0   \n",
              "2           bat  normal           0     DD            0               9   \n",
              "\n",
              "    player_of_match  player_of_match_id  \\\n",
              "0  Brendon McCullum                82.0   \n",
              "1    Michael Hussey                18.0   \n",
              "2  Farveez Maharoof                60.0   \n",
              "\n",
              "                                               venue  venue_id    umpire1  \\\n",
              "0         M.Chinnaswamy Stadium Bengaluru, Karnataka         7  Asad Rauf   \n",
              "1  I.S. Bindra Punjab Cricket Association Stadium...         9  MR Benson   \n",
              "2                    Feroz Shah Kotla Stadium, Delhi         2  Aleem Dar   \n",
              "\n",
              "          umpire2  \n",
              "0     RE Koertzen  \n",
              "1      SL Shastri  \n",
              "2  GA Pratapkumar  "
            ]
          },
          "metadata": {
            "tags": []
          },
          "execution_count": 11
        }
      ]
    },
    {
      "cell_type": "markdown",
      "metadata": {
        "id": "Emb8KNEaWQZ4",
        "colab_type": "text"
      },
      "source": [
        "## **Dropping row**"
      ]
    },
    {
      "cell_type": "code",
      "metadata": {
        "id": "EMKWoABJWQZ5",
        "colab_type": "code",
        "colab": {},
        "outputId": "96080bd9-d7d4-4bb8-92de-f0206d0006ce"
      },
      "source": [
        "# Dropping rows\n",
        "ipl_final.drop(['2008_1','2009_1','2010_1'], axis=0, inplace=True)  # axis = 0 for rows and axis=1 for columns\n",
        "\n",
        "ipl.head(3)"
      ],
      "execution_count": 0,
      "outputs": [
        {
          "output_type": "execute_result",
          "data": {
            "text/html": [
              "<div>\n",
              "<style scoped>\n",
              "    .dataframe tbody tr th:only-of-type {\n",
              "        vertical-align: middle;\n",
              "    }\n",
              "\n",
              "    .dataframe tbody tr th {\n",
              "        vertical-align: top;\n",
              "    }\n",
              "\n",
              "    .dataframe thead th {\n",
              "        text-align: right;\n",
              "    }\n",
              "</style>\n",
              "<table border=\"1\" class=\"dataframe\">\n",
              "  <thead>\n",
              "    <tr style=\"text-align: right;\">\n",
              "      <th></th>\n",
              "      <th>match_id</th>\n",
              "      <th>season</th>\n",
              "      <th>city</th>\n",
              "      <th>date</th>\n",
              "      <th>team1_id</th>\n",
              "      <th>team2_id</th>\n",
              "      <th>toss_winner</th>\n",
              "      <th>toss_decision</th>\n",
              "      <th>result</th>\n",
              "      <th>dl_applied</th>\n",
              "      <th>winner</th>\n",
              "      <th>win_by_runs</th>\n",
              "      <th>win_by_wickets</th>\n",
              "      <th>player_of_match</th>\n",
              "      <th>player_of_match_id</th>\n",
              "      <th>venue</th>\n",
              "      <th>venue_id</th>\n",
              "      <th>umpire1</th>\n",
              "      <th>umpire2</th>\n",
              "    </tr>\n",
              "  </thead>\n",
              "  <tbody>\n",
              "    <tr>\n",
              "      <th>0</th>\n",
              "      <td>2008_1</td>\n",
              "      <td>2008</td>\n",
              "      <td>Bangalore</td>\n",
              "      <td>18-04-2008</td>\n",
              "      <td>KKR</td>\n",
              "      <td>RCB</td>\n",
              "      <td>RCB</td>\n",
              "      <td>field</td>\n",
              "      <td>normal</td>\n",
              "      <td>0</td>\n",
              "      <td>KKR</td>\n",
              "      <td>140</td>\n",
              "      <td>0</td>\n",
              "      <td>Brendon McCullum</td>\n",
              "      <td>82.0</td>\n",
              "      <td>M.Chinnaswamy Stadium Bengaluru, Karnataka</td>\n",
              "      <td>7</td>\n",
              "      <td>Asad Rauf</td>\n",
              "      <td>RE Koertzen</td>\n",
              "    </tr>\n",
              "    <tr>\n",
              "      <th>1</th>\n",
              "      <td>2008_2</td>\n",
              "      <td>2008</td>\n",
              "      <td>Chandigarh</td>\n",
              "      <td>19-04-2008</td>\n",
              "      <td>CSK</td>\n",
              "      <td>KXI</td>\n",
              "      <td>CSK</td>\n",
              "      <td>bat</td>\n",
              "      <td>normal</td>\n",
              "      <td>0</td>\n",
              "      <td>CSK</td>\n",
              "      <td>33</td>\n",
              "      <td>0</td>\n",
              "      <td>Michael Hussey</td>\n",
              "      <td>18.0</td>\n",
              "      <td>I.S. Bindra Punjab Cricket Association Stadium...</td>\n",
              "      <td>9</td>\n",
              "      <td>MR Benson</td>\n",
              "      <td>SL Shastri</td>\n",
              "    </tr>\n",
              "    <tr>\n",
              "      <th>2</th>\n",
              "      <td>2008_3</td>\n",
              "      <td>2008</td>\n",
              "      <td>Delhi</td>\n",
              "      <td>19-04-2008</td>\n",
              "      <td>RR</td>\n",
              "      <td>DD</td>\n",
              "      <td>RR</td>\n",
              "      <td>bat</td>\n",
              "      <td>normal</td>\n",
              "      <td>0</td>\n",
              "      <td>DD</td>\n",
              "      <td>0</td>\n",
              "      <td>9</td>\n",
              "      <td>Farveez Maharoof</td>\n",
              "      <td>60.0</td>\n",
              "      <td>Feroz Shah Kotla Stadium, Delhi</td>\n",
              "      <td>2</td>\n",
              "      <td>Aleem Dar</td>\n",
              "      <td>GA Pratapkumar</td>\n",
              "    </tr>\n",
              "  </tbody>\n",
              "</table>\n",
              "</div>"
            ],
            "text/plain": [
              "  match_id  season        city        date team1_id team2_id toss_winner  \\\n",
              "0   2008_1    2008   Bangalore  18-04-2008      KKR      RCB         RCB   \n",
              "1   2008_2    2008  Chandigarh  19-04-2008      CSK      KXI         CSK   \n",
              "2   2008_3    2008       Delhi  19-04-2008       RR       DD          RR   \n",
              "\n",
              "  toss_decision  result  dl_applied winner  win_by_runs  win_by_wickets  \\\n",
              "0         field  normal           0    KKR          140               0   \n",
              "1           bat  normal           0    CSK           33               0   \n",
              "2           bat  normal           0     DD            0               9   \n",
              "\n",
              "    player_of_match  player_of_match_id  \\\n",
              "0  Brendon McCullum                82.0   \n",
              "1    Michael Hussey                18.0   \n",
              "2  Farveez Maharoof                60.0   \n",
              "\n",
              "                                               venue  venue_id    umpire1  \\\n",
              "0         M.Chinnaswamy Stadium Bengaluru, Karnataka         7  Asad Rauf   \n",
              "1  I.S. Bindra Punjab Cricket Association Stadium...         9  MR Benson   \n",
              "2                    Feroz Shah Kotla Stadium, Delhi         2  Aleem Dar   \n",
              "\n",
              "          umpire2  \n",
              "0     RE Koertzen  \n",
              "1      SL Shastri  \n",
              "2  GA Pratapkumar  "
            ]
          },
          "metadata": {
            "tags": []
          },
          "execution_count": 12
        }
      ]
    },
    {
      "cell_type": "markdown",
      "metadata": {
        "id": "Uhb8vUL5WQZ-",
        "colab_type": "text"
      },
      "source": [
        "## **Frequency distribution**\n",
        "- using method value_counts for getting the distribution of values for categories"
      ]
    },
    {
      "cell_type": "code",
      "metadata": {
        "id": "Kq9wMJywWQZ_",
        "colab_type": "code",
        "colab": {},
        "outputId": "650b966f-76d0-4417-a0f7-2416c6f5ca45"
      },
      "source": [
        "ipl_final['winner'].value_counts()       # table() in R - Frequency count"
      ],
      "execution_count": 0,
      "outputs": [
        {
          "output_type": "execute_result",
          "data": {
            "text/plain": [
              "MI     91\n",
              "CSK    79\n",
              "KKR    75\n",
              "RCB    73\n",
              "KXI    70\n",
              "RR     63\n",
              "DD     62\n",
              "SRH    42\n",
              "DC     29\n",
              "RPS    15\n",
              "GL     13\n",
              "PW     12\n",
              "KTK     6\n",
              "Name: winner, dtype: int64"
            ]
          },
          "metadata": {
            "tags": []
          },
          "execution_count": 13
        }
      ]
    },
    {
      "cell_type": "markdown",
      "metadata": {
        "id": "RVwpTjdaWQaC",
        "colab_type": "text"
      },
      "source": [
        "## **loc (to subset data by Row/Column labels)**"
      ]
    },
    {
      "cell_type": "code",
      "metadata": {
        "id": "UvU01w70WQaD",
        "colab_type": "code",
        "colab": {},
        "outputId": "dc2ba706-d934-4d0e-febc-17a879ee2f19"
      },
      "source": [
        "## Label based indexing make more sense for column subsetting\n",
        "#Select only venue and winner columns\n",
        "subset1 = ipl_final.loc[:,['venue','winner']]\n",
        "subset1.head(3)"
      ],
      "execution_count": 0,
      "outputs": [
        {
          "output_type": "execute_result",
          "data": {
            "text/html": [
              "<div>\n",
              "<style scoped>\n",
              "    .dataframe tbody tr th:only-of-type {\n",
              "        vertical-align: middle;\n",
              "    }\n",
              "\n",
              "    .dataframe tbody tr th {\n",
              "        vertical-align: top;\n",
              "    }\n",
              "\n",
              "    .dataframe thead th {\n",
              "        text-align: right;\n",
              "    }\n",
              "</style>\n",
              "<table border=\"1\" class=\"dataframe\">\n",
              "  <thead>\n",
              "    <tr style=\"text-align: right;\">\n",
              "      <th></th>\n",
              "      <th>venue</th>\n",
              "      <th>winner</th>\n",
              "    </tr>\n",
              "    <tr>\n",
              "      <th>match_id</th>\n",
              "      <th></th>\n",
              "      <th></th>\n",
              "    </tr>\n",
              "  </thead>\n",
              "  <tbody>\n",
              "    <tr>\n",
              "      <th>2008_2</th>\n",
              "      <td>I.S. Bindra Punjab Cricket Association Stadium...</td>\n",
              "      <td>CSK</td>\n",
              "    </tr>\n",
              "    <tr>\n",
              "      <th>2008_3</th>\n",
              "      <td>Feroz Shah Kotla Stadium, Delhi</td>\n",
              "      <td>DD</td>\n",
              "    </tr>\n",
              "    <tr>\n",
              "      <th>2008_4</th>\n",
              "      <td>Wankhede Stadium, Mumbai, Maharashtra</td>\n",
              "      <td>RCB</td>\n",
              "    </tr>\n",
              "  </tbody>\n",
              "</table>\n",
              "</div>"
            ],
            "text/plain": [
              "                                                      venue winner\n",
              "match_id                                                          \n",
              "2008_2    I.S. Bindra Punjab Cricket Association Stadium...    CSK\n",
              "2008_3                      Feroz Shah Kotla Stadium, Delhi     DD\n",
              "2008_4                Wankhede Stadium, Mumbai, Maharashtra    RCB"
            ]
          },
          "metadata": {
            "tags": []
          },
          "execution_count": 14
        }
      ]
    },
    {
      "cell_type": "code",
      "metadata": {
        "id": "KIM0jsWYWQaH",
        "colab_type": "code",
        "colab": {},
        "outputId": "1bcf8e1e-7ad6-4445-d5bf-c08795b61d4d"
      },
      "source": [
        "## For loc based subsetting using row and column indexer together is rare.\n",
        "subset2 = ipl_final.loc[['2008_2','2009_2','2010_2',],['venue','winner']]\n",
        "subset2.head(3)"
      ],
      "execution_count": 0,
      "outputs": [
        {
          "output_type": "execute_result",
          "data": {
            "text/html": [
              "<div>\n",
              "<style scoped>\n",
              "    .dataframe tbody tr th:only-of-type {\n",
              "        vertical-align: middle;\n",
              "    }\n",
              "\n",
              "    .dataframe tbody tr th {\n",
              "        vertical-align: top;\n",
              "    }\n",
              "\n",
              "    .dataframe thead th {\n",
              "        text-align: right;\n",
              "    }\n",
              "</style>\n",
              "<table border=\"1\" class=\"dataframe\">\n",
              "  <thead>\n",
              "    <tr style=\"text-align: right;\">\n",
              "      <th></th>\n",
              "      <th>venue</th>\n",
              "      <th>winner</th>\n",
              "    </tr>\n",
              "    <tr>\n",
              "      <th>match_id</th>\n",
              "      <th></th>\n",
              "      <th></th>\n",
              "    </tr>\n",
              "  </thead>\n",
              "  <tbody>\n",
              "    <tr>\n",
              "      <th>2008_2</th>\n",
              "      <td>I.S. Bindra Punjab Cricket Association Stadium...</td>\n",
              "      <td>CSK</td>\n",
              "    </tr>\n",
              "    <tr>\n",
              "      <th>2009_2</th>\n",
              "      <td>Newlands</td>\n",
              "      <td>RCB</td>\n",
              "    </tr>\n",
              "    <tr>\n",
              "      <th>2010_2</th>\n",
              "      <td>Brabourne Stadium</td>\n",
              "      <td>MI</td>\n",
              "    </tr>\n",
              "  </tbody>\n",
              "</table>\n",
              "</div>"
            ],
            "text/plain": [
              "                                                      venue winner\n",
              "match_id                                                          \n",
              "2008_2    I.S. Bindra Punjab Cricket Association Stadium...    CSK\n",
              "2009_2                                             Newlands    RCB\n",
              "2010_2                                    Brabourne Stadium     MI"
            ]
          },
          "metadata": {
            "tags": []
          },
          "execution_count": 15
        }
      ]
    },
    {
      "cell_type": "markdown",
      "metadata": {
        "id": "_V4J2yGuWQaK",
        "colab_type": "text"
      },
      "source": [
        "## **iloc    (to subset data based on Row/Column number)**"
      ]
    },
    {
      "cell_type": "code",
      "metadata": {
        "id": "97YkvlbwWQaM",
        "colab_type": "code",
        "colab": {},
        "outputId": "179206ce-00db-4a8c-8c8b-e789866d7042"
      },
      "source": [
        "## Numeric based indexing usually makes sense for row subsetting \n",
        "ipl.iloc[50:53,1:5]"
      ],
      "execution_count": 0,
      "outputs": [
        {
          "output_type": "execute_result",
          "data": {
            "text/html": [
              "<div>\n",
              "<style scoped>\n",
              "    .dataframe tbody tr th:only-of-type {\n",
              "        vertical-align: middle;\n",
              "    }\n",
              "\n",
              "    .dataframe tbody tr th {\n",
              "        vertical-align: top;\n",
              "    }\n",
              "\n",
              "    .dataframe thead th {\n",
              "        text-align: right;\n",
              "    }\n",
              "</style>\n",
              "<table border=\"1\" class=\"dataframe\">\n",
              "  <thead>\n",
              "    <tr style=\"text-align: right;\">\n",
              "      <th></th>\n",
              "      <th>season</th>\n",
              "      <th>city</th>\n",
              "      <th>date</th>\n",
              "      <th>team1_id</th>\n",
              "    </tr>\n",
              "  </thead>\n",
              "  <tbody>\n",
              "    <tr>\n",
              "      <th>50</th>\n",
              "      <td>2008</td>\n",
              "      <td>Chennai</td>\n",
              "      <td>24-05-2008</td>\n",
              "      <td>RR</td>\n",
              "    </tr>\n",
              "    <tr>\n",
              "      <th>51</th>\n",
              "      <td>2008</td>\n",
              "      <td>Bangalore</td>\n",
              "      <td>03-05-2008</td>\n",
              "      <td>RCB</td>\n",
              "    </tr>\n",
              "    <tr>\n",
              "      <th>52</th>\n",
              "      <td>2008</td>\n",
              "      <td>Kolkata</td>\n",
              "      <td>25-05-2008</td>\n",
              "      <td>KXI</td>\n",
              "    </tr>\n",
              "  </tbody>\n",
              "</table>\n",
              "</div>"
            ],
            "text/plain": [
              "    season       city        date team1_id\n",
              "50    2008    Chennai  24-05-2008       RR\n",
              "51    2008  Bangalore  03-05-2008      RCB\n",
              "52    2008    Kolkata  25-05-2008      KXI"
            ]
          },
          "metadata": {
            "tags": []
          },
          "execution_count": 16
        }
      ]
    },
    {
      "cell_type": "markdown",
      "metadata": {
        "id": "hpv-LWgvWQaQ",
        "colab_type": "text"
      },
      "source": [
        "## **Boolean indexing (to subset based on value in each cell of the column )**\n",
        "**Here we subsetting the data where the cell value in \"City\" column is equal to \"Hyderabad\"**"
      ]
    },
    {
      "cell_type": "code",
      "metadata": {
        "id": "w-E-haB7WQaR",
        "colab_type": "code",
        "colab": {},
        "outputId": "386b1dc5-4ff5-471b-d8a2-bff4f1526b66"
      },
      "source": [
        "subset3 = ipl.loc[ipl['city']=='Hyderabad',:]\n",
        "subset3.head(3)"
      ],
      "execution_count": 0,
      "outputs": [
        {
          "output_type": "execute_result",
          "data": {
            "text/html": [
              "<div>\n",
              "<style scoped>\n",
              "    .dataframe tbody tr th:only-of-type {\n",
              "        vertical-align: middle;\n",
              "    }\n",
              "\n",
              "    .dataframe tbody tr th {\n",
              "        vertical-align: top;\n",
              "    }\n",
              "\n",
              "    .dataframe thead th {\n",
              "        text-align: right;\n",
              "    }\n",
              "</style>\n",
              "<table border=\"1\" class=\"dataframe\">\n",
              "  <thead>\n",
              "    <tr style=\"text-align: right;\">\n",
              "      <th></th>\n",
              "      <th>match_id</th>\n",
              "      <th>season</th>\n",
              "      <th>city</th>\n",
              "      <th>date</th>\n",
              "      <th>team1_id</th>\n",
              "      <th>team2_id</th>\n",
              "      <th>toss_winner</th>\n",
              "      <th>toss_decision</th>\n",
              "      <th>result</th>\n",
              "      <th>dl_applied</th>\n",
              "      <th>winner</th>\n",
              "      <th>win_by_runs</th>\n",
              "      <th>win_by_wickets</th>\n",
              "      <th>player_of_match</th>\n",
              "      <th>player_of_match_id</th>\n",
              "      <th>venue</th>\n",
              "      <th>venue_id</th>\n",
              "      <th>umpire1</th>\n",
              "      <th>umpire2</th>\n",
              "    </tr>\n",
              "  </thead>\n",
              "  <tbody>\n",
              "    <tr>\n",
              "      <th>6</th>\n",
              "      <td>2008_7</td>\n",
              "      <td>2008</td>\n",
              "      <td>Hyderabad</td>\n",
              "      <td>22-04-2008</td>\n",
              "      <td>DC</td>\n",
              "      <td>DD</td>\n",
              "      <td>DC</td>\n",
              "      <td>bat</td>\n",
              "      <td>normal</td>\n",
              "      <td>0</td>\n",
              "      <td>DD</td>\n",
              "      <td>0</td>\n",
              "      <td>9</td>\n",
              "      <td>Virender Sehwag</td>\n",
              "      <td>46.0</td>\n",
              "      <td>Rajiv Gandhi International Stadium, Hyderabad</td>\n",
              "      <td>4</td>\n",
              "      <td>IL Howell</td>\n",
              "      <td>AM Saheba</td>\n",
              "    </tr>\n",
              "    <tr>\n",
              "      <th>8</th>\n",
              "      <td>2008_9</td>\n",
              "      <td>2008</td>\n",
              "      <td>Hyderabad</td>\n",
              "      <td>24-04-2008</td>\n",
              "      <td>DC</td>\n",
              "      <td>RR</td>\n",
              "      <td>RR</td>\n",
              "      <td>field</td>\n",
              "      <td>normal</td>\n",
              "      <td>0</td>\n",
              "      <td>RR</td>\n",
              "      <td>0</td>\n",
              "      <td>3</td>\n",
              "      <td>Yusuf Pathan</td>\n",
              "      <td>171.0</td>\n",
              "      <td>Rajiv Gandhi International Stadium, Hyderabad</td>\n",
              "      <td>4</td>\n",
              "      <td>Asad Rauf</td>\n",
              "      <td>MR Benson</td>\n",
              "    </tr>\n",
              "    <tr>\n",
              "      <th>17</th>\n",
              "      <td>2008_18</td>\n",
              "      <td>2008</td>\n",
              "      <td>Hyderabad</td>\n",
              "      <td>01-05-2008</td>\n",
              "      <td>DC</td>\n",
              "      <td>KXI</td>\n",
              "      <td>KXI</td>\n",
              "      <td>field</td>\n",
              "      <td>normal</td>\n",
              "      <td>0</td>\n",
              "      <td>KXI</td>\n",
              "      <td>0</td>\n",
              "      <td>7</td>\n",
              "      <td>Shaun Marsh</td>\n",
              "      <td>106.0</td>\n",
              "      <td>Rajiv Gandhi International Stadium, Hyderabad</td>\n",
              "      <td>4</td>\n",
              "      <td>BR Doctrove</td>\n",
              "      <td>RB Tiffin</td>\n",
              "    </tr>\n",
              "  </tbody>\n",
              "</table>\n",
              "</div>"
            ],
            "text/plain": [
              "   match_id  season       city        date team1_id team2_id toss_winner  \\\n",
              "6    2008_7    2008  Hyderabad  22-04-2008       DC       DD          DC   \n",
              "8    2008_9    2008  Hyderabad  24-04-2008       DC       RR          RR   \n",
              "17  2008_18    2008  Hyderabad  01-05-2008       DC      KXI         KXI   \n",
              "\n",
              "   toss_decision  result  dl_applied winner  win_by_runs  win_by_wickets  \\\n",
              "6            bat  normal           0     DD            0               9   \n",
              "8          field  normal           0     RR            0               3   \n",
              "17         field  normal           0    KXI            0               7   \n",
              "\n",
              "    player_of_match  player_of_match_id  \\\n",
              "6   Virender Sehwag                46.0   \n",
              "8      Yusuf Pathan               171.0   \n",
              "17      Shaun Marsh               106.0   \n",
              "\n",
              "                                            venue  venue_id      umpire1  \\\n",
              "6   Rajiv Gandhi International Stadium, Hyderabad         4    IL Howell   \n",
              "8   Rajiv Gandhi International Stadium, Hyderabad         4    Asad Rauf   \n",
              "17  Rajiv Gandhi International Stadium, Hyderabad         4  BR Doctrove   \n",
              "\n",
              "      umpire2  \n",
              "6   AM Saheba  \n",
              "8   MR Benson  \n",
              "17  RB Tiffin  "
            ]
          },
          "metadata": {
            "tags": []
          },
          "execution_count": 17
        }
      ]
    },
    {
      "cell_type": "markdown",
      "metadata": {
        "id": "gWvG5UZlWQaV",
        "colab_type": "text"
      },
      "source": [
        "## **Piping of functions (for multiple criteria subsetting)**"
      ]
    },
    {
      "cell_type": "markdown",
      "metadata": {
        "id": "YqhvAB2VWQaV",
        "colab_type": "text"
      },
      "source": [
        "**Basically output of first function is taken as input for the next function**\n",
        "#### **Note - We are using a relational operator inside the first function to get a boolean vector (equal to the number of rows we have). Where the value will be True only if the \"city\" column is \"Hyderabad\"**"
      ]
    },
    {
      "cell_type": "code",
      "metadata": {
        "id": "_JIJ4WpHWQaX",
        "colab_type": "code",
        "colab": {},
        "outputId": "1a07ec39-e66c-4138-d1e7-58b95e698a9e"
      },
      "source": [
        "subset4 = ipl.loc[ipl['city']=='Chennai',:].loc[ipl['winner']=='CSK',:].loc[:,['team1_id','team2_id','winner','city']]\n",
        "\n",
        "## This line achieves the same purpose as above\n",
        "# subset4 = ipl.loc[(ipl['city']=='Chennai') & (ipl['winner']=='CSK'),:].loc[:,['team1_id','team2_id','winner','city']]\n",
        "\n",
        "subset4.head(3)"
      ],
      "execution_count": 0,
      "outputs": [
        {
          "output_type": "execute_result",
          "data": {
            "text/html": [
              "<div>\n",
              "<style scoped>\n",
              "    .dataframe tbody tr th:only-of-type {\n",
              "        vertical-align: middle;\n",
              "    }\n",
              "\n",
              "    .dataframe tbody tr th {\n",
              "        vertical-align: top;\n",
              "    }\n",
              "\n",
              "    .dataframe thead th {\n",
              "        text-align: right;\n",
              "    }\n",
              "</style>\n",
              "<table border=\"1\" class=\"dataframe\">\n",
              "  <thead>\n",
              "    <tr style=\"text-align: right;\">\n",
              "      <th></th>\n",
              "      <th>team1_id</th>\n",
              "      <th>team2_id</th>\n",
              "      <th>winner</th>\n",
              "      <th>city</th>\n",
              "    </tr>\n",
              "  </thead>\n",
              "  <tbody>\n",
              "    <tr>\n",
              "      <th>7</th>\n",
              "      <td>CSK</td>\n",
              "      <td>MI</td>\n",
              "      <td>CSK</td>\n",
              "      <td>Chennai</td>\n",
              "    </tr>\n",
              "    <tr>\n",
              "      <th>11</th>\n",
              "      <td>KKR</td>\n",
              "      <td>CSK</td>\n",
              "      <td>CSK</td>\n",
              "      <td>Chennai</td>\n",
              "    </tr>\n",
              "    <tr>\n",
              "      <th>31</th>\n",
              "      <td>CSK</td>\n",
              "      <td>KXI</td>\n",
              "      <td>CSK</td>\n",
              "      <td>Chennai</td>\n",
              "    </tr>\n",
              "  </tbody>\n",
              "</table>\n",
              "</div>"
            ],
            "text/plain": [
              "   team1_id team2_id winner     city\n",
              "7       CSK       MI    CSK  Chennai\n",
              "11      KKR      CSK    CSK  Chennai\n",
              "31      CSK      KXI    CSK  Chennai"
            ]
          },
          "metadata": {
            "tags": []
          },
          "execution_count": 18
        }
      ]
    },
    {
      "cell_type": "markdown",
      "metadata": {
        "id": "rCEPC40QWQab",
        "colab_type": "text"
      },
      "source": [
        "### **Note**\n",
        "1. In the first command we have used 3 subsetting logics in a single line\n",
        "2. This can be alternatively done by chaining conditions using logical operations (&)\n",
        "3. **You may realize that sometimes giving single indexer (either row or column) works. However it may not be a consistent behaviour and its a good programming practive to specify both the indexers explicitly (row and column) as it makes the code more readable later on.**"
      ]
    },
    {
      "cell_type": "markdown",
      "metadata": {
        "id": "AWsx4X10WQab",
        "colab_type": "text"
      },
      "source": [
        "## **Replace specific values**"
      ]
    },
    {
      "cell_type": "code",
      "metadata": {
        "id": "6sBcgjjLWQad",
        "colab_type": "code",
        "colab": {},
        "outputId": "2afcde42-3dfe-466d-fffd-126254460dd0"
      },
      "source": [
        "ipl['winner'].value_counts()"
      ],
      "execution_count": 0,
      "outputs": [
        {
          "output_type": "execute_result",
          "data": {
            "text/plain": [
              "MI     80\n",
              "CSK    79\n",
              "RCB    70\n",
              "KKR    68\n",
              "RR     63\n",
              "KXI    63\n",
              "DD     56\n",
              "SRH    34\n",
              "DC     29\n",
              "PW     12\n",
              "GL      9\n",
              "KTK     6\n",
              "RPS     5\n",
              "Name: winner, dtype: int64"
            ]
          },
          "metadata": {
            "tags": []
          },
          "execution_count": 19
        }
      ]
    },
    {
      "cell_type": "code",
      "metadata": {
        "id": "EQ15wyqFWQaf",
        "colab_type": "code",
        "colab": {},
        "outputId": "9d966ac4-ee2c-46b6-ceb2-2867e7c38b00"
      },
      "source": [
        "# Lets replace DC with SRH\n",
        "ipl_updated=ipl_final.replace({'DC':'SRH'}, inplace=False)\n",
        "\n",
        "ipl_updated['winner'].value_counts()"
      ],
      "execution_count": 0,
      "outputs": [
        {
          "output_type": "execute_result",
          "data": {
            "text/plain": [
              "MI     91\n",
              "CSK    79\n",
              "KKR    75\n",
              "RCB    73\n",
              "SRH    71\n",
              "KXI    70\n",
              "RR     63\n",
              "DD     62\n",
              "RPS    15\n",
              "GL     13\n",
              "PW     12\n",
              "KTK     6\n",
              "Name: winner, dtype: int64"
            ]
          },
          "metadata": {
            "tags": []
          },
          "execution_count": 20
        }
      ]
    },
    {
      "cell_type": "markdown",
      "metadata": {
        "collapsed": true,
        "id": "qFZR8cCpWQaj",
        "colab_type": "text"
      },
      "source": [
        "## **Activity**\n",
        "**What matches are played on 2008-04-20 and who is the winner?**"
      ]
    },
    {
      "cell_type": "code",
      "metadata": {
        "id": "NvIrXCwBWQak",
        "colab_type": "code",
        "colab": {},
        "outputId": "554d30f7-8d65-458d-a3c0-d5a43913ebfe"
      },
      "source": [
        "ipl.loc[ipl['date']=='20-04-2008',:].loc[:,['winner']]"
      ],
      "execution_count": 0,
      "outputs": [
        {
          "output_type": "execute_result",
          "data": {
            "text/html": [
              "<div>\n",
              "<style scoped>\n",
              "    .dataframe tbody tr th:only-of-type {\n",
              "        vertical-align: middle;\n",
              "    }\n",
              "\n",
              "    .dataframe tbody tr th {\n",
              "        vertical-align: top;\n",
              "    }\n",
              "\n",
              "    .dataframe thead th {\n",
              "        text-align: right;\n",
              "    }\n",
              "</style>\n",
              "<table border=\"1\" class=\"dataframe\">\n",
              "  <thead>\n",
              "    <tr style=\"text-align: right;\">\n",
              "      <th></th>\n",
              "      <th>winner</th>\n",
              "    </tr>\n",
              "  </thead>\n",
              "  <tbody>\n",
              "    <tr>\n",
              "      <th>3</th>\n",
              "      <td>RCB</td>\n",
              "    </tr>\n",
              "    <tr>\n",
              "      <th>4</th>\n",
              "      <td>KKR</td>\n",
              "    </tr>\n",
              "  </tbody>\n",
              "</table>\n",
              "</div>"
            ],
            "text/plain": [
              "  winner\n",
              "3    RCB\n",
              "4    KKR"
            ]
          },
          "metadata": {
            "tags": []
          },
          "execution_count": 21
        }
      ]
    },
    {
      "cell_type": "markdown",
      "metadata": {
        "id": "Ls_n0JoCWQao",
        "colab_type": "text"
      },
      "source": [
        "---\n",
        "## *<center>End</center>*"
      ]
    }
  ]
}